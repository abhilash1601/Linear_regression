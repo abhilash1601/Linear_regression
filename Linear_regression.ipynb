{
 "cells": [
  {
   "cell_type": "code",
   "execution_count": 1,
   "id": "ec0dc7f3",
   "metadata": {},
   "outputs": [],
   "source": [
    "import pandas as pd\n",
    "import numpy as np\n",
    "from sklearn.model_selection import train_test_split\n",
    "import matplotlib.pyplot as plt\n",
    "import seaborn as sns\n",
    "import numpy as np\n",
    "from sklearn.linear_model import LinearRegression\n",
    "from sklearn.model_selection import GridSearchCV, KFold\n",
    "from sklearn.preprocessing import StandardScaler\n",
    "from sklearn.pipeline import make_pipeline\n",
    "from sklearn.metrics import mean_squared_error\n",
    "from sklearn.preprocessing import PolynomialFeatures\n",
    "from sklearn.pipeline import Pipeline\n",
    "from sklearn.linear_model import SGDRegressor\n",
    "from sklearn.metrics import mean_squared_error, r2_score\n"
   ]
  },
  {
   "cell_type": "markdown",
   "id": "45e26601",
   "metadata": {},
   "source": [
    "Jamboree has helped thousands of students like you make it to top colleges abroad. Be it GMAT, GRE or SAT, their unique problem-solving methods ensure maximum scores with minimum effort.\n",
    "They recently launched a feature where students/learners can come to their website and check their probability of getting into the IVY league college. This feature estimates the chances of graduate admission from an Indian perspective."
   ]
  },
  {
   "cell_type": "markdown",
   "id": "90da77fe",
   "metadata": {},
   "source": [
    "Columns\n",
    "\n",
    "Serial No. (Unique row ID)\n",
    "\n",
    "GRE Scores (out of 340)\n",
    "\n",
    "TOEFL Scores (out of 120)\n",
    "\n",
    "University Rating (out of 5)\n",
    "\n",
    "Statement of Purpose and Letter of Recommendation Strength (out of 5)\n",
    "\n",
    "Undergraduate GPA (out of 10)\n",
    "\n",
    "Research Experience (either 0 or 1)\n",
    "\n",
    "Chance of Admit (ranging from 0 to 1)"
   ]
  },
  {
   "cell_type": "markdown",
   "id": "a6a155f8",
   "metadata": {},
   "source": [
    "### Problem statement : To predict Chance of Admit (A countinous value) with given feature "
   ]
  },
  {
   "cell_type": "markdown",
   "id": "6c6dbda1",
   "metadata": {},
   "source": [
    "### Features :\n",
    "\n",
    "Serial No. (Unique row ID)\n",
    "\n",
    "GRE Scores (out of 340)\n",
    "\n",
    "TOEFL Scores (out of 120)\n",
    "\n",
    "University Rating (out of 5)\n",
    "\n",
    "Statement of Purpose and Letter of Recommendation Strength (out of 5)\n",
    "\n",
    "Undergraduate GPA (out of 10)\n",
    "\n",
    "Research Experience (either 0 or 1)\n",
    "\n",
    "### Target Variable :\n",
    "\n",
    "Chance of Admit (ranging from 0 to 1)"
   ]
  },
  {
   "cell_type": "code",
   "execution_count": 2,
   "id": "1f10313b",
   "metadata": {},
   "outputs": [],
   "source": [
    "df=pd.read_csv(\"d2beiqkhq929f0.cloudfront.net_public_assets_assets_000_001_839_original_Jamboree_Admission.csv\")"
   ]
  },
  {
   "cell_type": "code",
   "execution_count": 3,
   "id": "1b341cff",
   "metadata": {},
   "outputs": [
    {
     "data": {
      "text/html": [
       "<div>\n",
       "<style scoped>\n",
       "    .dataframe tbody tr th:only-of-type {\n",
       "        vertical-align: middle;\n",
       "    }\n",
       "\n",
       "    .dataframe tbody tr th {\n",
       "        vertical-align: top;\n",
       "    }\n",
       "\n",
       "    .dataframe thead th {\n",
       "        text-align: right;\n",
       "    }\n",
       "</style>\n",
       "<table border=\"1\" class=\"dataframe\">\n",
       "  <thead>\n",
       "    <tr style=\"text-align: right;\">\n",
       "      <th></th>\n",
       "      <th>Serial No.</th>\n",
       "      <th>GRE Score</th>\n",
       "      <th>TOEFL Score</th>\n",
       "      <th>University Rating</th>\n",
       "      <th>SOP</th>\n",
       "      <th>LOR</th>\n",
       "      <th>CGPA</th>\n",
       "      <th>Research</th>\n",
       "      <th>Chance of Admit</th>\n",
       "    </tr>\n",
       "  </thead>\n",
       "  <tbody>\n",
       "    <tr>\n",
       "      <th>0</th>\n",
       "      <td>1</td>\n",
       "      <td>337</td>\n",
       "      <td>118</td>\n",
       "      <td>4</td>\n",
       "      <td>4.5</td>\n",
       "      <td>4.5</td>\n",
       "      <td>9.65</td>\n",
       "      <td>1</td>\n",
       "      <td>0.92</td>\n",
       "    </tr>\n",
       "    <tr>\n",
       "      <th>1</th>\n",
       "      <td>2</td>\n",
       "      <td>324</td>\n",
       "      <td>107</td>\n",
       "      <td>4</td>\n",
       "      <td>4.0</td>\n",
       "      <td>4.5</td>\n",
       "      <td>8.87</td>\n",
       "      <td>1</td>\n",
       "      <td>0.76</td>\n",
       "    </tr>\n",
       "    <tr>\n",
       "      <th>2</th>\n",
       "      <td>3</td>\n",
       "      <td>316</td>\n",
       "      <td>104</td>\n",
       "      <td>3</td>\n",
       "      <td>3.0</td>\n",
       "      <td>3.5</td>\n",
       "      <td>8.00</td>\n",
       "      <td>1</td>\n",
       "      <td>0.72</td>\n",
       "    </tr>\n",
       "    <tr>\n",
       "      <th>3</th>\n",
       "      <td>4</td>\n",
       "      <td>322</td>\n",
       "      <td>110</td>\n",
       "      <td>3</td>\n",
       "      <td>3.5</td>\n",
       "      <td>2.5</td>\n",
       "      <td>8.67</td>\n",
       "      <td>1</td>\n",
       "      <td>0.80</td>\n",
       "    </tr>\n",
       "    <tr>\n",
       "      <th>4</th>\n",
       "      <td>5</td>\n",
       "      <td>314</td>\n",
       "      <td>103</td>\n",
       "      <td>2</td>\n",
       "      <td>2.0</td>\n",
       "      <td>3.0</td>\n",
       "      <td>8.21</td>\n",
       "      <td>0</td>\n",
       "      <td>0.65</td>\n",
       "    </tr>\n",
       "    <tr>\n",
       "      <th>...</th>\n",
       "      <td>...</td>\n",
       "      <td>...</td>\n",
       "      <td>...</td>\n",
       "      <td>...</td>\n",
       "      <td>...</td>\n",
       "      <td>...</td>\n",
       "      <td>...</td>\n",
       "      <td>...</td>\n",
       "      <td>...</td>\n",
       "    </tr>\n",
       "    <tr>\n",
       "      <th>495</th>\n",
       "      <td>496</td>\n",
       "      <td>332</td>\n",
       "      <td>108</td>\n",
       "      <td>5</td>\n",
       "      <td>4.5</td>\n",
       "      <td>4.0</td>\n",
       "      <td>9.02</td>\n",
       "      <td>1</td>\n",
       "      <td>0.87</td>\n",
       "    </tr>\n",
       "    <tr>\n",
       "      <th>496</th>\n",
       "      <td>497</td>\n",
       "      <td>337</td>\n",
       "      <td>117</td>\n",
       "      <td>5</td>\n",
       "      <td>5.0</td>\n",
       "      <td>5.0</td>\n",
       "      <td>9.87</td>\n",
       "      <td>1</td>\n",
       "      <td>0.96</td>\n",
       "    </tr>\n",
       "    <tr>\n",
       "      <th>497</th>\n",
       "      <td>498</td>\n",
       "      <td>330</td>\n",
       "      <td>120</td>\n",
       "      <td>5</td>\n",
       "      <td>4.5</td>\n",
       "      <td>5.0</td>\n",
       "      <td>9.56</td>\n",
       "      <td>1</td>\n",
       "      <td>0.93</td>\n",
       "    </tr>\n",
       "    <tr>\n",
       "      <th>498</th>\n",
       "      <td>499</td>\n",
       "      <td>312</td>\n",
       "      <td>103</td>\n",
       "      <td>4</td>\n",
       "      <td>4.0</td>\n",
       "      <td>5.0</td>\n",
       "      <td>8.43</td>\n",
       "      <td>0</td>\n",
       "      <td>0.73</td>\n",
       "    </tr>\n",
       "    <tr>\n",
       "      <th>499</th>\n",
       "      <td>500</td>\n",
       "      <td>327</td>\n",
       "      <td>113</td>\n",
       "      <td>4</td>\n",
       "      <td>4.5</td>\n",
       "      <td>4.5</td>\n",
       "      <td>9.04</td>\n",
       "      <td>0</td>\n",
       "      <td>0.84</td>\n",
       "    </tr>\n",
       "  </tbody>\n",
       "</table>\n",
       "<p>500 rows × 9 columns</p>\n",
       "</div>"
      ],
      "text/plain": [
       "     Serial No.  GRE Score  TOEFL Score  University Rating  SOP  LOR   CGPA  \\\n",
       "0             1        337          118                  4  4.5   4.5  9.65   \n",
       "1             2        324          107                  4  4.0   4.5  8.87   \n",
       "2             3        316          104                  3  3.0   3.5  8.00   \n",
       "3             4        322          110                  3  3.5   2.5  8.67   \n",
       "4             5        314          103                  2  2.0   3.0  8.21   \n",
       "..          ...        ...          ...                ...  ...   ...   ...   \n",
       "495         496        332          108                  5  4.5   4.0  9.02   \n",
       "496         497        337          117                  5  5.0   5.0  9.87   \n",
       "497         498        330          120                  5  4.5   5.0  9.56   \n",
       "498         499        312          103                  4  4.0   5.0  8.43   \n",
       "499         500        327          113                  4  4.5   4.5  9.04   \n",
       "\n",
       "     Research  Chance of Admit   \n",
       "0           1              0.92  \n",
       "1           1              0.76  \n",
       "2           1              0.72  \n",
       "3           1              0.80  \n",
       "4           0              0.65  \n",
       "..        ...               ...  \n",
       "495         1              0.87  \n",
       "496         1              0.96  \n",
       "497         1              0.93  \n",
       "498         0              0.73  \n",
       "499         0              0.84  \n",
       "\n",
       "[500 rows x 9 columns]"
      ]
     },
     "execution_count": 3,
     "metadata": {},
     "output_type": "execute_result"
    }
   ],
   "source": [
    "df"
   ]
  },
  {
   "cell_type": "code",
   "execution_count": 4,
   "id": "66611a54",
   "metadata": {},
   "outputs": [
    {
     "data": {
      "text/plain": [
       "(500, 9)"
      ]
     },
     "execution_count": 4,
     "metadata": {},
     "output_type": "execute_result"
    }
   ],
   "source": [
    "#Shape of the data set\n",
    "df.shape"
   ]
  },
  {
   "cell_type": "code",
   "execution_count": 5,
   "id": "9d574a1a",
   "metadata": {},
   "outputs": [
    {
     "name": "stdout",
     "output_type": "stream",
     "text": [
      "<class 'pandas.core.frame.DataFrame'>\n",
      "RangeIndex: 500 entries, 0 to 499\n",
      "Data columns (total 9 columns):\n",
      " #   Column             Non-Null Count  Dtype  \n",
      "---  ------             --------------  -----  \n",
      " 0   Serial No.         500 non-null    int64  \n",
      " 1   GRE Score          500 non-null    int64  \n",
      " 2   TOEFL Score        500 non-null    int64  \n",
      " 3   University Rating  500 non-null    int64  \n",
      " 4   SOP                500 non-null    float64\n",
      " 5   LOR                500 non-null    float64\n",
      " 6   CGPA               500 non-null    float64\n",
      " 7   Research           500 non-null    int64  \n",
      " 8   Chance of Admit    500 non-null    float64\n",
      "dtypes: float64(4), int64(5)\n",
      "memory usage: 35.3 KB\n"
     ]
    }
   ],
   "source": [
    "df.info()"
   ]
  },
  {
   "cell_type": "markdown",
   "id": "e1817942",
   "metadata": {},
   "source": [
    "#### There are no missing values or any nan values in the data set"
   ]
  },
  {
   "cell_type": "code",
   "execution_count": 6,
   "id": "3809af6a",
   "metadata": {},
   "outputs": [
    {
     "data": {
      "text/html": [
       "<div>\n",
       "<style scoped>\n",
       "    .dataframe tbody tr th:only-of-type {\n",
       "        vertical-align: middle;\n",
       "    }\n",
       "\n",
       "    .dataframe tbody tr th {\n",
       "        vertical-align: top;\n",
       "    }\n",
       "\n",
       "    .dataframe thead th {\n",
       "        text-align: right;\n",
       "    }\n",
       "</style>\n",
       "<table border=\"1\" class=\"dataframe\">\n",
       "  <thead>\n",
       "    <tr style=\"text-align: right;\">\n",
       "      <th></th>\n",
       "      <th>Serial No.</th>\n",
       "      <th>GRE Score</th>\n",
       "      <th>TOEFL Score</th>\n",
       "      <th>University Rating</th>\n",
       "      <th>SOP</th>\n",
       "      <th>LOR</th>\n",
       "      <th>CGPA</th>\n",
       "      <th>Research</th>\n",
       "      <th>Chance of Admit</th>\n",
       "    </tr>\n",
       "  </thead>\n",
       "  <tbody>\n",
       "    <tr>\n",
       "      <th>count</th>\n",
       "      <td>500.000000</td>\n",
       "      <td>500.000000</td>\n",
       "      <td>500.000000</td>\n",
       "      <td>500.000000</td>\n",
       "      <td>500.000000</td>\n",
       "      <td>500.00000</td>\n",
       "      <td>500.000000</td>\n",
       "      <td>500.000000</td>\n",
       "      <td>500.00000</td>\n",
       "    </tr>\n",
       "    <tr>\n",
       "      <th>mean</th>\n",
       "      <td>250.500000</td>\n",
       "      <td>316.472000</td>\n",
       "      <td>107.192000</td>\n",
       "      <td>3.114000</td>\n",
       "      <td>3.374000</td>\n",
       "      <td>3.48400</td>\n",
       "      <td>8.576440</td>\n",
       "      <td>0.560000</td>\n",
       "      <td>0.72174</td>\n",
       "    </tr>\n",
       "    <tr>\n",
       "      <th>std</th>\n",
       "      <td>144.481833</td>\n",
       "      <td>11.295148</td>\n",
       "      <td>6.081868</td>\n",
       "      <td>1.143512</td>\n",
       "      <td>0.991004</td>\n",
       "      <td>0.92545</td>\n",
       "      <td>0.604813</td>\n",
       "      <td>0.496884</td>\n",
       "      <td>0.14114</td>\n",
       "    </tr>\n",
       "    <tr>\n",
       "      <th>min</th>\n",
       "      <td>1.000000</td>\n",
       "      <td>290.000000</td>\n",
       "      <td>92.000000</td>\n",
       "      <td>1.000000</td>\n",
       "      <td>1.000000</td>\n",
       "      <td>1.00000</td>\n",
       "      <td>6.800000</td>\n",
       "      <td>0.000000</td>\n",
       "      <td>0.34000</td>\n",
       "    </tr>\n",
       "    <tr>\n",
       "      <th>25%</th>\n",
       "      <td>125.750000</td>\n",
       "      <td>308.000000</td>\n",
       "      <td>103.000000</td>\n",
       "      <td>2.000000</td>\n",
       "      <td>2.500000</td>\n",
       "      <td>3.00000</td>\n",
       "      <td>8.127500</td>\n",
       "      <td>0.000000</td>\n",
       "      <td>0.63000</td>\n",
       "    </tr>\n",
       "    <tr>\n",
       "      <th>50%</th>\n",
       "      <td>250.500000</td>\n",
       "      <td>317.000000</td>\n",
       "      <td>107.000000</td>\n",
       "      <td>3.000000</td>\n",
       "      <td>3.500000</td>\n",
       "      <td>3.50000</td>\n",
       "      <td>8.560000</td>\n",
       "      <td>1.000000</td>\n",
       "      <td>0.72000</td>\n",
       "    </tr>\n",
       "    <tr>\n",
       "      <th>75%</th>\n",
       "      <td>375.250000</td>\n",
       "      <td>325.000000</td>\n",
       "      <td>112.000000</td>\n",
       "      <td>4.000000</td>\n",
       "      <td>4.000000</td>\n",
       "      <td>4.00000</td>\n",
       "      <td>9.040000</td>\n",
       "      <td>1.000000</td>\n",
       "      <td>0.82000</td>\n",
       "    </tr>\n",
       "    <tr>\n",
       "      <th>max</th>\n",
       "      <td>500.000000</td>\n",
       "      <td>340.000000</td>\n",
       "      <td>120.000000</td>\n",
       "      <td>5.000000</td>\n",
       "      <td>5.000000</td>\n",
       "      <td>5.00000</td>\n",
       "      <td>9.920000</td>\n",
       "      <td>1.000000</td>\n",
       "      <td>0.97000</td>\n",
       "    </tr>\n",
       "  </tbody>\n",
       "</table>\n",
       "</div>"
      ],
      "text/plain": [
       "       Serial No.   GRE Score  TOEFL Score  University Rating         SOP  \\\n",
       "count  500.000000  500.000000   500.000000         500.000000  500.000000   \n",
       "mean   250.500000  316.472000   107.192000           3.114000    3.374000   \n",
       "std    144.481833   11.295148     6.081868           1.143512    0.991004   \n",
       "min      1.000000  290.000000    92.000000           1.000000    1.000000   \n",
       "25%    125.750000  308.000000   103.000000           2.000000    2.500000   \n",
       "50%    250.500000  317.000000   107.000000           3.000000    3.500000   \n",
       "75%    375.250000  325.000000   112.000000           4.000000    4.000000   \n",
       "max    500.000000  340.000000   120.000000           5.000000    5.000000   \n",
       "\n",
       "            LOR         CGPA    Research  Chance of Admit   \n",
       "count  500.00000  500.000000  500.000000         500.00000  \n",
       "mean     3.48400    8.576440    0.560000           0.72174  \n",
       "std      0.92545    0.604813    0.496884           0.14114  \n",
       "min      1.00000    6.800000    0.000000           0.34000  \n",
       "25%      3.00000    8.127500    0.000000           0.63000  \n",
       "50%      3.50000    8.560000    1.000000           0.72000  \n",
       "75%      4.00000    9.040000    1.000000           0.82000  \n",
       "max      5.00000    9.920000    1.000000           0.97000  "
      ]
     },
     "execution_count": 6,
     "metadata": {},
     "output_type": "execute_result"
    }
   ],
   "source": [
    "df.describe()"
   ]
  },
  {
   "cell_type": "markdown",
   "id": "671c805b",
   "metadata": {},
   "source": [
    "#### Some features are countinous and some are descrete in nature"
   ]
  },
  {
   "cell_type": "code",
   "execution_count": 7,
   "id": "e1fc30e6",
   "metadata": {},
   "outputs": [],
   "source": [
    "#Un wanted column\n",
    "df=df.drop(columns=\"Serial No.\")"
   ]
  },
  {
   "cell_type": "markdown",
   "id": "f38ccf8a",
   "metadata": {},
   "source": [
    "### Lets Assume that we dont have test data now , we will use it final after model building"
   ]
  },
  {
   "cell_type": "code",
   "execution_count": 8,
   "id": "ec504423",
   "metadata": {},
   "outputs": [],
   "source": [
    "#Spliting 15% if data for testing unseen to us\n",
    "Y=df['Chance of Admit ']\n",
    "X=df.drop(columns=\"Chance of Admit \")\n",
    "X_train, X_test, y_train, y_test = train_test_split(X,Y, test_size=0.20, random_state=42)\n",
    "df_Train=X_train\n",
    "df_Train[\"Chance of Admit\"]=y_train"
   ]
  },
  {
   "cell_type": "code",
   "execution_count": 9,
   "id": "a6b7b994",
   "metadata": {},
   "outputs": [
    {
     "data": {
      "text/html": [
       "<div>\n",
       "<style scoped>\n",
       "    .dataframe tbody tr th:only-of-type {\n",
       "        vertical-align: middle;\n",
       "    }\n",
       "\n",
       "    .dataframe tbody tr th {\n",
       "        vertical-align: top;\n",
       "    }\n",
       "\n",
       "    .dataframe thead th {\n",
       "        text-align: right;\n",
       "    }\n",
       "</style>\n",
       "<table border=\"1\" class=\"dataframe\">\n",
       "  <thead>\n",
       "    <tr style=\"text-align: right;\">\n",
       "      <th></th>\n",
       "      <th>GRE Score</th>\n",
       "      <th>TOEFL Score</th>\n",
       "      <th>University Rating</th>\n",
       "      <th>SOP</th>\n",
       "      <th>LOR</th>\n",
       "      <th>CGPA</th>\n",
       "      <th>Research</th>\n",
       "      <th>Chance of Admit</th>\n",
       "    </tr>\n",
       "  </thead>\n",
       "  <tbody>\n",
       "    <tr>\n",
       "      <th>0</th>\n",
       "      <td>321</td>\n",
       "      <td>111</td>\n",
       "      <td>3</td>\n",
       "      <td>3.5</td>\n",
       "      <td>4.0</td>\n",
       "      <td>8.83</td>\n",
       "      <td>1</td>\n",
       "      <td>0.77</td>\n",
       "    </tr>\n",
       "    <tr>\n",
       "      <th>1</th>\n",
       "      <td>316</td>\n",
       "      <td>111</td>\n",
       "      <td>4</td>\n",
       "      <td>4.0</td>\n",
       "      <td>5.0</td>\n",
       "      <td>8.54</td>\n",
       "      <td>0</td>\n",
       "      <td>0.71</td>\n",
       "    </tr>\n",
       "    <tr>\n",
       "      <th>2</th>\n",
       "      <td>303</td>\n",
       "      <td>102</td>\n",
       "      <td>3</td>\n",
       "      <td>3.5</td>\n",
       "      <td>3.0</td>\n",
       "      <td>8.50</td>\n",
       "      <td>0</td>\n",
       "      <td>0.62</td>\n",
       "    </tr>\n",
       "    <tr>\n",
       "      <th>3</th>\n",
       "      <td>314</td>\n",
       "      <td>107</td>\n",
       "      <td>2</td>\n",
       "      <td>2.5</td>\n",
       "      <td>4.0</td>\n",
       "      <td>8.27</td>\n",
       "      <td>0</td>\n",
       "      <td>0.72</td>\n",
       "    </tr>\n",
       "    <tr>\n",
       "      <th>4</th>\n",
       "      <td>308</td>\n",
       "      <td>106</td>\n",
       "      <td>3</td>\n",
       "      <td>3.5</td>\n",
       "      <td>2.5</td>\n",
       "      <td>8.21</td>\n",
       "      <td>1</td>\n",
       "      <td>0.75</td>\n",
       "    </tr>\n",
       "    <tr>\n",
       "      <th>...</th>\n",
       "      <td>...</td>\n",
       "      <td>...</td>\n",
       "      <td>...</td>\n",
       "      <td>...</td>\n",
       "      <td>...</td>\n",
       "      <td>...</td>\n",
       "      <td>...</td>\n",
       "      <td>...</td>\n",
       "    </tr>\n",
       "    <tr>\n",
       "      <th>395</th>\n",
       "      <td>329</td>\n",
       "      <td>111</td>\n",
       "      <td>4</td>\n",
       "      <td>4.5</td>\n",
       "      <td>4.5</td>\n",
       "      <td>9.18</td>\n",
       "      <td>1</td>\n",
       "      <td>0.87</td>\n",
       "    </tr>\n",
       "    <tr>\n",
       "      <th>396</th>\n",
       "      <td>306</td>\n",
       "      <td>105</td>\n",
       "      <td>2</td>\n",
       "      <td>2.5</td>\n",
       "      <td>3.0</td>\n",
       "      <td>8.22</td>\n",
       "      <td>1</td>\n",
       "      <td>0.72</td>\n",
       "    </tr>\n",
       "    <tr>\n",
       "      <th>397</th>\n",
       "      <td>302</td>\n",
       "      <td>99</td>\n",
       "      <td>1</td>\n",
       "      <td>2.0</td>\n",
       "      <td>2.0</td>\n",
       "      <td>7.25</td>\n",
       "      <td>0</td>\n",
       "      <td>0.57</td>\n",
       "    </tr>\n",
       "    <tr>\n",
       "      <th>398</th>\n",
       "      <td>309</td>\n",
       "      <td>105</td>\n",
       "      <td>2</td>\n",
       "      <td>2.5</td>\n",
       "      <td>4.0</td>\n",
       "      <td>7.68</td>\n",
       "      <td>0</td>\n",
       "      <td>0.55</td>\n",
       "    </tr>\n",
       "    <tr>\n",
       "      <th>399</th>\n",
       "      <td>314</td>\n",
       "      <td>106</td>\n",
       "      <td>2</td>\n",
       "      <td>4.0</td>\n",
       "      <td>3.5</td>\n",
       "      <td>8.25</td>\n",
       "      <td>0</td>\n",
       "      <td>0.62</td>\n",
       "    </tr>\n",
       "  </tbody>\n",
       "</table>\n",
       "<p>400 rows × 8 columns</p>\n",
       "</div>"
      ],
      "text/plain": [
       "     GRE Score  TOEFL Score  University Rating  SOP  LOR   CGPA  Research  \\\n",
       "0          321          111                  3  3.5   4.0  8.83         1   \n",
       "1          316          111                  4  4.0   5.0  8.54         0   \n",
       "2          303          102                  3  3.5   3.0  8.50         0   \n",
       "3          314          107                  2  2.5   4.0  8.27         0   \n",
       "4          308          106                  3  3.5   2.5  8.21         1   \n",
       "..         ...          ...                ...  ...   ...   ...       ...   \n",
       "395        329          111                  4  4.5   4.5  9.18         1   \n",
       "396        306          105                  2  2.5   3.0  8.22         1   \n",
       "397        302           99                  1  2.0   2.0  7.25         0   \n",
       "398        309          105                  2  2.5   4.0  7.68         0   \n",
       "399        314          106                  2  4.0   3.5  8.25         0   \n",
       "\n",
       "     Chance of Admit  \n",
       "0               0.77  \n",
       "1               0.71  \n",
       "2               0.62  \n",
       "3               0.72  \n",
       "4               0.75  \n",
       "..               ...  \n",
       "395             0.87  \n",
       "396             0.72  \n",
       "397             0.57  \n",
       "398             0.55  \n",
       "399             0.62  \n",
       "\n",
       "[400 rows x 8 columns]"
      ]
     },
     "execution_count": 9,
     "metadata": {},
     "output_type": "execute_result"
    }
   ],
   "source": [
    "df_Train.reset_index(inplace=True)\n",
    "df_Train.drop(columns=\"index\",inplace=True)\n",
    "df_Train"
   ]
  },
  {
   "cell_type": "markdown",
   "id": "4d65b5a4",
   "metadata": {},
   "source": [
    "####  We have 425 data set for EDA ,a small data set"
   ]
  },
  {
   "cell_type": "code",
   "execution_count": 10,
   "id": "85ef0158",
   "metadata": {},
   "outputs": [
    {
     "data": {
      "text/html": [
       "<div>\n",
       "<style scoped>\n",
       "    .dataframe tbody tr th:only-of-type {\n",
       "        vertical-align: middle;\n",
       "    }\n",
       "\n",
       "    .dataframe tbody tr th {\n",
       "        vertical-align: top;\n",
       "    }\n",
       "\n",
       "    .dataframe thead th {\n",
       "        text-align: right;\n",
       "    }\n",
       "</style>\n",
       "<table border=\"1\" class=\"dataframe\">\n",
       "  <thead>\n",
       "    <tr style=\"text-align: right;\">\n",
       "      <th></th>\n",
       "      <th>GRE Score</th>\n",
       "      <th>TOEFL Score</th>\n",
       "      <th>University Rating</th>\n",
       "      <th>SOP</th>\n",
       "      <th>LOR</th>\n",
       "      <th>CGPA</th>\n",
       "      <th>Research</th>\n",
       "      <th>Chance of Admit</th>\n",
       "    </tr>\n",
       "  </thead>\n",
       "  <tbody>\n",
       "    <tr>\n",
       "      <th>count</th>\n",
       "      <td>400.000000</td>\n",
       "      <td>400.000000</td>\n",
       "      <td>400.000000</td>\n",
       "      <td>400.000000</td>\n",
       "      <td>400.000000</td>\n",
       "      <td>400.000000</td>\n",
       "      <td>400.000000</td>\n",
       "      <td>400.000000</td>\n",
       "    </tr>\n",
       "    <tr>\n",
       "      <th>mean</th>\n",
       "      <td>316.727500</td>\n",
       "      <td>107.335000</td>\n",
       "      <td>3.112500</td>\n",
       "      <td>3.375000</td>\n",
       "      <td>3.480000</td>\n",
       "      <td>8.580750</td>\n",
       "      <td>0.555000</td>\n",
       "      <td>0.724175</td>\n",
       "    </tr>\n",
       "    <tr>\n",
       "      <th>std</th>\n",
       "      <td>10.969232</td>\n",
       "      <td>6.091432</td>\n",
       "      <td>1.145917</td>\n",
       "      <td>0.987072</td>\n",
       "      <td>0.921533</td>\n",
       "      <td>0.601328</td>\n",
       "      <td>0.497588</td>\n",
       "      <td>0.140564</td>\n",
       "    </tr>\n",
       "    <tr>\n",
       "      <th>min</th>\n",
       "      <td>290.000000</td>\n",
       "      <td>92.000000</td>\n",
       "      <td>1.000000</td>\n",
       "      <td>1.000000</td>\n",
       "      <td>1.500000</td>\n",
       "      <td>6.800000</td>\n",
       "      <td>0.000000</td>\n",
       "      <td>0.340000</td>\n",
       "    </tr>\n",
       "    <tr>\n",
       "      <th>25%</th>\n",
       "      <td>309.000000</td>\n",
       "      <td>103.000000</td>\n",
       "      <td>2.000000</td>\n",
       "      <td>2.500000</td>\n",
       "      <td>3.000000</td>\n",
       "      <td>8.137500</td>\n",
       "      <td>0.000000</td>\n",
       "      <td>0.637500</td>\n",
       "    </tr>\n",
       "    <tr>\n",
       "      <th>50%</th>\n",
       "      <td>317.000000</td>\n",
       "      <td>107.000000</td>\n",
       "      <td>3.000000</td>\n",
       "      <td>3.500000</td>\n",
       "      <td>3.500000</td>\n",
       "      <td>8.565000</td>\n",
       "      <td>1.000000</td>\n",
       "      <td>0.730000</td>\n",
       "    </tr>\n",
       "    <tr>\n",
       "      <th>75%</th>\n",
       "      <td>324.250000</td>\n",
       "      <td>112.000000</td>\n",
       "      <td>4.000000</td>\n",
       "      <td>4.000000</td>\n",
       "      <td>4.000000</td>\n",
       "      <td>9.040000</td>\n",
       "      <td>1.000000</td>\n",
       "      <td>0.820000</td>\n",
       "    </tr>\n",
       "    <tr>\n",
       "      <th>max</th>\n",
       "      <td>340.000000</td>\n",
       "      <td>120.000000</td>\n",
       "      <td>5.000000</td>\n",
       "      <td>5.000000</td>\n",
       "      <td>5.000000</td>\n",
       "      <td>9.920000</td>\n",
       "      <td>1.000000</td>\n",
       "      <td>0.970000</td>\n",
       "    </tr>\n",
       "  </tbody>\n",
       "</table>\n",
       "</div>"
      ],
      "text/plain": [
       "        GRE Score  TOEFL Score  University Rating         SOP        LOR   \\\n",
       "count  400.000000   400.000000         400.000000  400.000000  400.000000   \n",
       "mean   316.727500   107.335000           3.112500    3.375000    3.480000   \n",
       "std     10.969232     6.091432           1.145917    0.987072    0.921533   \n",
       "min    290.000000    92.000000           1.000000    1.000000    1.500000   \n",
       "25%    309.000000   103.000000           2.000000    2.500000    3.000000   \n",
       "50%    317.000000   107.000000           3.000000    3.500000    3.500000   \n",
       "75%    324.250000   112.000000           4.000000    4.000000    4.000000   \n",
       "max    340.000000   120.000000           5.000000    5.000000    5.000000   \n",
       "\n",
       "             CGPA    Research  Chance of Admit  \n",
       "count  400.000000  400.000000       400.000000  \n",
       "mean     8.580750    0.555000         0.724175  \n",
       "std      0.601328    0.497588         0.140564  \n",
       "min      6.800000    0.000000         0.340000  \n",
       "25%      8.137500    0.000000         0.637500  \n",
       "50%      8.565000    1.000000         0.730000  \n",
       "75%      9.040000    1.000000         0.820000  \n",
       "max      9.920000    1.000000         0.970000  "
      ]
     },
     "execution_count": 10,
     "metadata": {},
     "output_type": "execute_result"
    }
   ],
   "source": [
    "df_Train.describe()"
   ]
  },
  {
   "cell_type": "code",
   "execution_count": 11,
   "id": "510645d7",
   "metadata": {},
   "outputs": [
    {
     "name": "stdout",
     "output_type": "stream",
     "text": [
      "<class 'pandas.core.frame.DataFrame'>\n",
      "RangeIndex: 400 entries, 0 to 399\n",
      "Data columns (total 8 columns):\n",
      " #   Column             Non-Null Count  Dtype  \n",
      "---  ------             --------------  -----  \n",
      " 0   GRE Score          400 non-null    int64  \n",
      " 1   TOEFL Score        400 non-null    int64  \n",
      " 2   University Rating  400 non-null    int64  \n",
      " 3   SOP                400 non-null    float64\n",
      " 4   LOR                400 non-null    float64\n",
      " 5   CGPA               400 non-null    float64\n",
      " 6   Research           400 non-null    int64  \n",
      " 7   Chance of Admit    400 non-null    float64\n",
      "dtypes: float64(4), int64(4)\n",
      "memory usage: 25.1 KB\n"
     ]
    }
   ],
   "source": [
    "df_Train.info()"
   ]
  },
  {
   "cell_type": "code",
   "execution_count": 12,
   "id": "1f1c427e",
   "metadata": {},
   "outputs": [
    {
     "data": {
      "text/plain": [
       "(400, 8)"
      ]
     },
     "execution_count": 12,
     "metadata": {},
     "output_type": "execute_result"
    }
   ],
   "source": [
    "df_Train.shape"
   ]
  },
  {
   "cell_type": "markdown",
   "id": "cfc55f79",
   "metadata": {},
   "source": [
    "### Univarient and bi-Varient Analysis "
   ]
  },
  {
   "cell_type": "markdown",
   "id": "513cc84f",
   "metadata": {},
   "source": [
    "#### Columns which can be considered as descrite or catagorical"
   ]
  },
  {
   "cell_type": "code",
   "execution_count": 13,
   "id": "e6d96401",
   "metadata": {},
   "outputs": [
    {
     "data": {
      "text/plain": [
       "4.0    75\n",
       "3.5    73\n",
       "3.0    59\n",
       "2.5    52\n",
       "4.5    47\n",
       "2.0    36\n",
       "5.0    34\n",
       "1.5    20\n",
       "1.0     4\n",
       "Name: SOP, dtype: int64"
      ]
     },
     "execution_count": 13,
     "metadata": {},
     "output_type": "execute_result"
    }
   ],
   "source": [
    "df_Train[\"SOP\"].value_counts()"
   ]
  },
  {
   "cell_type": "code",
   "execution_count": 14,
   "id": "fc096b12",
   "metadata": {},
   "outputs": [
    {
     "name": "stderr",
     "output_type": "stream",
     "text": [
      "C:\\Users\\Abhilash\\anaconda3\\lib\\site-packages\\seaborn\\_decorators.py:36: FutureWarning: Pass the following variable as a keyword arg: x. From version 0.12, the only valid positional argument will be `data`, and passing other arguments without an explicit keyword will result in an error or misinterpretation.\n",
      "  warnings.warn(\n"
     ]
    },
    {
     "data": {
      "text/plain": [
       "<AxesSubplot:xlabel='SOP', ylabel='count'>"
      ]
     },
     "execution_count": 14,
     "metadata": {},
     "output_type": "execute_result"
    },
    {
     "data": {
      "image/png": "[encoded data removed]",
      "text/plain": [
       "<Figure size 432x288 with 1 Axes>"
      ]
     },
     "metadata": {
      "needs_background": "light"
     },
     "output_type": "display_data"
    }
   ],
   "source": [
    "sns.countplot(df_Train[\"SOP\"])"
   ]
  },
  {
   "cell_type": "markdown",
   "id": "84b28d7c",
   "metadata": {},
   "source": [
    "SOP can be considered as descrite since it takes a finite set of values\n",
    "\n",
    "mode of SOP is 3.5\n"
   ]
  },
  {
   "cell_type": "code",
   "execution_count": 15,
   "id": "8c29a789",
   "metadata": {},
   "outputs": [
    {
     "data": {
      "text/plain": [
       "3.0    81\n",
       "4.0    75\n",
       "3.5    69\n",
       "4.5    49\n",
       "5.0    40\n",
       "2.5    40\n",
       "2.0    36\n",
       "1.5    10\n",
       "Name: LOR , dtype: int64"
      ]
     },
     "execution_count": 15,
     "metadata": {},
     "output_type": "execute_result"
    }
   ],
   "source": [
    "df_Train[\"LOR \"].value_counts()"
   ]
  },
  {
   "cell_type": "code",
   "execution_count": 16,
   "id": "31993888",
   "metadata": {},
   "outputs": [
    {
     "name": "stderr",
     "output_type": "stream",
     "text": [
      "C:\\Users\\Abhilash\\anaconda3\\lib\\site-packages\\seaborn\\_decorators.py:36: FutureWarning: Pass the following variable as a keyword arg: x. From version 0.12, the only valid positional argument will be `data`, and passing other arguments without an explicit keyword will result in an error or misinterpretation.\n",
      "  warnings.warn(\n"
     ]
    },
    {
     "data": {
      "text/plain": [
       "<AxesSubplot:xlabel='LOR ', ylabel='count'>"
      ]
     },
     "execution_count": 16,
     "metadata": {},
     "output_type": "execute_result"
    },
    {
     "data": {
      "image/png": "[encoded data removed]",
      "text/plain": [
       "<Figure size 432x288 with 1 Axes>"
      ]
     },
     "metadata": {
      "needs_background": "light"
     },
     "output_type": "display_data"
    }
   ],
   "source": [
    "sns.countplot(df_Train[\"LOR \"])"
   ]
  },
  {
   "cell_type": "markdown",
   "id": "edf5754f",
   "metadata": {},
   "source": [
    "mode of LOR is 3.0"
   ]
  },
  {
   "cell_type": "code",
   "execution_count": 17,
   "id": "5c68b819",
   "metadata": {},
   "outputs": [
    {
     "data": {
      "text/plain": [
       "3    132\n",
       "2    101\n",
       "4     80\n",
       "5     60\n",
       "1     27\n",
       "Name: University Rating, dtype: int64"
      ]
     },
     "execution_count": 17,
     "metadata": {},
     "output_type": "execute_result"
    }
   ],
   "source": [
    "df_Train[\"University Rating\"].value_counts()"
   ]
  },
  {
   "cell_type": "code",
   "execution_count": 18,
   "id": "29dbd033",
   "metadata": {},
   "outputs": [
    {
     "name": "stderr",
     "output_type": "stream",
     "text": [
      "C:\\Users\\Abhilash\\anaconda3\\lib\\site-packages\\seaborn\\_decorators.py:36: FutureWarning: Pass the following variable as a keyword arg: x. From version 0.12, the only valid positional argument will be `data`, and passing other arguments without an explicit keyword will result in an error or misinterpretation.\n",
      "  warnings.warn(\n"
     ]
    },
    {
     "data": {
      "text/plain": [
       "<AxesSubplot:xlabel='University Rating', ylabel='count'>"
      ]
     },
     "execution_count": 18,
     "metadata": {},
     "output_type": "execute_result"
    },
    {
     "data": {
      "image/png": "[encoded data removed]",
      "text/plain": [
       "<Figure size 432x288 with 1 Axes>"
      ]
     },
     "metadata": {
      "needs_background": "light"
     },
     "output_type": "display_data"
    }
   ],
   "source": [
    "sns.countplot(df_Train[\"University Rating\"])"
   ]
  },
  {
   "cell_type": "markdown",
   "id": "732523e3",
   "metadata": {},
   "source": [
    "Mode university rating is 3"
   ]
  },
  {
   "cell_type": "code",
   "execution_count": 19,
   "id": "ae9fc225",
   "metadata": {},
   "outputs": [
    {
     "data": {
      "text/plain": [
       "1    222\n",
       "0    178\n",
       "Name: Research, dtype: int64"
      ]
     },
     "execution_count": 19,
     "metadata": {},
     "output_type": "execute_result"
    }
   ],
   "source": [
    "df_Train[\"Research\"].value_counts()"
   ]
  },
  {
   "cell_type": "code",
   "execution_count": 20,
   "id": "84feced5",
   "metadata": {},
   "outputs": [
    {
     "name": "stderr",
     "output_type": "stream",
     "text": [
      "C:\\Users\\Abhilash\\anaconda3\\lib\\site-packages\\seaborn\\_decorators.py:36: FutureWarning: Pass the following variable as a keyword arg: x. From version 0.12, the only valid positional argument will be `data`, and passing other arguments without an explicit keyword will result in an error or misinterpretation.\n",
      "  warnings.warn(\n"
     ]
    },
    {
     "data": {
      "text/plain": [
       "<AxesSubplot:xlabel='Research', ylabel='count'>"
      ]
     },
     "execution_count": 20,
     "metadata": {},
     "output_type": "execute_result"
    },
    {
     "data": {
      "image/png": "[encoded data removed]",
      "text/plain": [
       "<Figure size 432x288 with 1 Axes>"
      ]
     },
     "metadata": {
      "needs_background": "light"
     },
     "output_type": "display_data"
    }
   ],
   "source": [
    "sns.countplot(df_Train[\"Research\"])"
   ]
  },
  {
   "cell_type": "markdown",
   "id": "fe3c0780",
   "metadata": {},
   "source": [
    "#### Columns which can be considered as Countinous"
   ]
  },
  {
   "cell_type": "code",
   "execution_count": 21,
   "id": "5fd6f0dd",
   "metadata": {},
   "outputs": [
    {
     "data": {
      "text/plain": [
       "<AxesSubplot:xlabel='TOEFL Score', ylabel='Count'>"
      ]
     },
     "execution_count": 21,
     "metadata": {},
     "output_type": "execute_result"
    },
    {
     "data": {
      "image/png": "[encoded data removed]",
      "text/plain": [
       "<Figure size 432x288 with 1 Axes>"
      ]
     },
     "metadata": {
      "needs_background": "light"
     },
     "output_type": "display_data"
    }
   ],
   "source": [
    "sns.histplot(df_Train[\"TOEFL Score\"],kde=True)"
   ]
  },
  {
   "cell_type": "code",
   "execution_count": 22,
   "id": "f49148e1",
   "metadata": {},
   "outputs": [
    {
     "data": {
      "text/plain": [
       "<AxesSubplot:xlabel='GRE Score', ylabel='Count'>"
      ]
     },
     "execution_count": 22,
     "metadata": {},
     "output_type": "execute_result"
    },
    {
     "data": {
      "image/png": "[encoded data removed]",
      "text/plain": [
       "<Figure size 432x288 with 1 Axes>"
      ]
     },
     "metadata": {
      "needs_background": "light"
     },
     "output_type": "display_data"
    }
   ],
   "source": [
    "sns.histplot(df_Train[\"GRE Score\"],kde=True)"
   ]
  },
  {
   "cell_type": "code",
   "execution_count": 23,
   "id": "afa684b8",
   "metadata": {},
   "outputs": [
    {
     "data": {
      "text/plain": [
       "<AxesSubplot:xlabel='CGPA', ylabel='Count'>"
      ]
     },
     "execution_count": 23,
     "metadata": {},
     "output_type": "execute_result"
    },
    {
     "data": {
      "image/png": "[encoded data removed]",
      "text/plain": [
       "<Figure size 432x288 with 1 Axes>"
      ]
     },
     "metadata": {
      "needs_background": "light"
     },
     "output_type": "display_data"
    }
   ],
   "source": [
    "sns.histplot(df_Train[\"CGPA\"],kde=True)"
   ]
  },
  {
   "cell_type": "code",
   "execution_count": 24,
   "id": "fb05c7c8",
   "metadata": {},
   "outputs": [
    {
     "data": {
      "text/plain": [
       "<AxesSubplot:xlabel='Chance of Admit', ylabel='Count'>"
      ]
     },
     "execution_count": 24,
     "metadata": {},
     "output_type": "execute_result"
    },
    {
     "data": {
      "image/png": "[encoded data removed]",
      "text/plain": [
       "<Figure size 432x288 with 1 Axes>"
      ]
     },
     "metadata": {
      "needs_background": "light"
     },
     "output_type": "display_data"
    }
   ],
   "source": [
    "sns.histplot(df_Train[\"Chance of Admit\"],kde=True)"
   ]
  },
  {
   "cell_type": "code",
   "execution_count": 25,
   "id": "e23b1299",
   "metadata": {},
   "outputs": [
    {
     "data": {
      "text/plain": [
       "<AxesSubplot:xlabel='Research', ylabel='Chance of Admit'>"
      ]
     },
     "execution_count": 25,
     "metadata": {},
     "output_type": "execute_result"
    },
    {
     "data": {
      "image/png": "[encoded data removed]",
      "text/plain": [
       "<Figure size 432x288 with 1 Axes>"
      ]
     },
     "metadata": {
      "needs_background": "light"
     },
     "output_type": "display_data"
    }
   ],
   "source": [
    "sns.boxplot(x=df_Train['Research'],y=df_Train['Chance of Admit'])"
   ]
  },
  {
   "cell_type": "markdown",
   "id": "1b4eb9c5",
   "metadata": {},
   "source": [
    "#### students who have done their research have good chance of getting admission"
   ]
  },
  {
   "cell_type": "code",
   "execution_count": 26,
   "id": "f6425d70",
   "metadata": {},
   "outputs": [
    {
     "data": {
      "text/plain": [
       "<AxesSubplot:xlabel='University Rating', ylabel='Chance of Admit'>"
      ]
     },
     "execution_count": 26,
     "metadata": {},
     "output_type": "execute_result"
    },
    {
     "data": {
      "image/png": "[encoded data removed]",
      "text/plain": [
       "<Figure size 432x288 with 1 Axes>"
      ]
     },
     "metadata": {
      "needs_background": "light"
     },
     "output_type": "display_data"
    }
   ],
   "source": [
    "sns.boxplot(x=df_Train['University Rating'],y=df_Train['Chance of Admit'])"
   ]
  },
  {
   "cell_type": "markdown",
   "id": "d0f44e90",
   "metadata": {},
   "source": [
    "#### usually High rating university accpets the students who have high probaility of admission"
   ]
  },
  {
   "cell_type": "code",
   "execution_count": 27,
   "id": "f63e231f",
   "metadata": {},
   "outputs": [
    {
     "data": {
      "text/plain": [
       "<AxesSubplot:xlabel='SOP', ylabel='Chance of Admit'>"
      ]
     },
     "execution_count": 27,
     "metadata": {},
     "output_type": "execute_result"
    },
    {
     "data": {
      "image/png": "[encoded data removed]",
      "text/plain": [
       "<Figure size 432x288 with 1 Axes>"
      ]
     },
     "metadata": {
      "needs_background": "light"
     },
     "output_type": "display_data"
    }
   ],
   "source": [
    "sns.boxplot(x=df_Train['SOP'],y=df_Train['Chance of Admit'])"
   ]
  },
  {
   "cell_type": "markdown",
   "id": "9cdfd1cc",
   "metadata": {},
   "source": [
    "#### Students have high chance of Admission who has SOP rating high"
   ]
  },
  {
   "cell_type": "code",
   "execution_count": 28,
   "id": "7b76ffc3",
   "metadata": {},
   "outputs": [
    {
     "data": {
      "text/plain": [
       "<AxesSubplot:xlabel='LOR ', ylabel='Chance of Admit'>"
      ]
     },
     "execution_count": 28,
     "metadata": {},
     "output_type": "execute_result"
    },
    {
     "data": {
      "image/png": "[encoded data removed]",
      "text/plain": [
       "<Figure size 432x288 with 1 Axes>"
      ]
     },
     "metadata": {
      "needs_background": "light"
     },
     "output_type": "display_data"
    }
   ],
   "source": [
    "sns.boxplot(x=df_Train['LOR '],y=df_Train['Chance of Admit'])"
   ]
  },
  {
   "cell_type": "markdown",
   "id": "a6950957",
   "metadata": {},
   "source": [
    "#### Students have high chance of Admission who has LOR rating high"
   ]
  },
  {
   "cell_type": "code",
   "execution_count": 29,
   "id": "a2602a71",
   "metadata": {},
   "outputs": [
    {
     "data": {
      "text/plain": [
       "<AxesSubplot:xlabel='CGPA', ylabel='Chance of Admit'>"
      ]
     },
     "execution_count": 29,
     "metadata": {},
     "output_type": "execute_result"
    },
    {
     "data": {
      "image/png": "[encoded data removed]",
      "text/plain": [
       "<Figure size 432x288 with 1 Axes>"
      ]
     },
     "metadata": {
      "needs_background": "light"
     },
     "output_type": "display_data"
    }
   ],
   "source": [
    "sns.lineplot(x=df_Train['CGPA'],y=df_Train['Chance of Admit'],)"
   ]
  },
  {
   "cell_type": "code",
   "execution_count": 30,
   "id": "bc089200",
   "metadata": {},
   "outputs": [
    {
     "data": {
      "text/plain": [
       "<AxesSubplot:xlabel='GRE Score', ylabel='Chance of Admit'>"
      ]
     },
     "execution_count": 30,
     "metadata": {},
     "output_type": "execute_result"
    },
    {
     "data": {
      "image/png": "[encoded data removed]",
      "text/plain": [
       "<Figure size 432x288 with 1 Axes>"
      ]
     },
     "metadata": {
      "needs_background": "light"
     },
     "output_type": "display_data"
    }
   ],
   "source": [
    "sns.lineplot(x=df_Train['GRE Score'],y=df_Train['Chance of Admit'])"
   ]
  },
  {
   "cell_type": "markdown",
   "id": "3ab2bc51",
   "metadata": {},
   "source": [
    "#### As CGPA or GRE score increases the chance of Admission increase"
   ]
  },
  {
   "cell_type": "code",
   "execution_count": 31,
   "id": "e264b267",
   "metadata": {},
   "outputs": [
    {
     "data": {
      "text/plain": [
       "<AxesSubplot:xlabel='GRE Score', ylabel='Chance of Admit'>"
      ]
     },
     "execution_count": 31,
     "metadata": {},
     "output_type": "execute_result"
    },
    {
     "data": {
      "image/png": "[encoded data removed]",
      "text/plain": [
       "<Figure size 432x288 with 1 Axes>"
      ]
     },
     "metadata": {
      "needs_background": "light"
     },
     "output_type": "display_data"
    }
   ],
   "source": [
    "sns.lineplot(x=df_Train['GRE Score'],y=df_Train['Chance of Admit'],hue=df_Train['Research'])"
   ]
  },
  {
   "cell_type": "code",
   "execution_count": 32,
   "id": "28ec1882",
   "metadata": {},
   "outputs": [
    {
     "data": {
      "text/plain": [
       "<AxesSubplot:>"
      ]
     },
     "execution_count": 32,
     "metadata": {},
     "output_type": "execute_result"
    },
    {
     "data": {
      "image/png": "[encoded data removed]",
      "text/plain": [
       "<Figure size 432x288 with 2 Axes>"
      ]
     },
     "metadata": {
      "needs_background": "light"
     },
     "output_type": "display_data"
    }
   ],
   "source": [
    "sns.heatmap(df_Train.corr(),annot=True)"
   ]
  },
  {
   "cell_type": "markdown",
   "id": "038ea8e6",
   "metadata": {},
   "source": [
    "#### Corelation heat map \n",
    "##### we can see some columuns are corelated with other columns eg (Chance of admit with GRE)"
   ]
  },
  {
   "cell_type": "code",
   "execution_count": 33,
   "id": "bde7ee89",
   "metadata": {},
   "outputs": [
    {
     "data": {
      "text/plain": [
       "<seaborn.axisgrid.PairGrid at 0x1c9bdc1fbb0>"
      ]
     },
     "execution_count": 33,
     "metadata": {},
     "output_type": "execute_result"
    },
    {
     "data": {
      "image/png": "[encoded data removed]",
      "text/plain": [
       "<Figure size 1440x1440 with 72 Axes>"
      ]
     },
     "metadata": {
      "needs_background": "light"
     },
     "output_type": "display_data"
    }
   ],
   "source": [
    "sns.pairplot(df_Train)"
   ]
  },
  {
   "cell_type": "markdown",
   "id": "2565e3cd",
   "metadata": {},
   "source": [
    "### Checking Outliers"
   ]
  },
  {
   "cell_type": "code",
   "execution_count": 34,
   "id": "397fb1da",
   "metadata": {},
   "outputs": [
    {
     "name": "stderr",
     "output_type": "stream",
     "text": [
      "C:\\Users\\Abhilash\\anaconda3\\lib\\site-packages\\seaborn\\_decorators.py:36: FutureWarning: Pass the following variable as a keyword arg: x. From version 0.12, the only valid positional argument will be `data`, and passing other arguments without an explicit keyword will result in an error or misinterpretation.\n",
      "  warnings.warn(\n"
     ]
    },
    {
     "data": {
      "text/plain": [
       "<AxesSubplot:xlabel='Chance of Admit '>"
      ]
     },
     "execution_count": 34,
     "metadata": {},
     "output_type": "execute_result"
    },
    {
     "data": {
      "image/png": "[encoded data removed]",
      "text/plain": [
       "<Figure size 432x288 with 1 Axes>"
      ]
     },
     "metadata": {
      "needs_background": "light"
     },
     "output_type": "display_data"
    }
   ],
   "source": [
    "sns.boxplot(df['Chance of Admit '])"
   ]
  },
  {
   "cell_type": "code",
   "execution_count": 35,
   "id": "13f75e9f",
   "metadata": {},
   "outputs": [
    {
     "name": "stderr",
     "output_type": "stream",
     "text": [
      "C:\\Users\\Abhilash\\anaconda3\\lib\\site-packages\\seaborn\\_decorators.py:36: FutureWarning: Pass the following variable as a keyword arg: x. From version 0.12, the only valid positional argument will be `data`, and passing other arguments without an explicit keyword will result in an error or misinterpretation.\n",
      "  warnings.warn(\n"
     ]
    },
    {
     "data": {
      "text/plain": [
       "<AxesSubplot:xlabel='GRE Score'>"
      ]
     },
     "execution_count": 35,
     "metadata": {},
     "output_type": "execute_result"
    },
    {
     "data": {
      "image/png": "[encoded data removed]",
      "text/plain": [
       "<Figure size 432x288 with 1 Axes>"
      ]
     },
     "metadata": {
      "needs_background": "light"
     },
     "output_type": "display_data"
    }
   ],
   "source": [
    "sns.boxplot(df['GRE Score'])"
   ]
  },
  {
   "cell_type": "code",
   "execution_count": 36,
   "id": "269c26da",
   "metadata": {},
   "outputs": [
    {
     "name": "stderr",
     "output_type": "stream",
     "text": [
      "C:\\Users\\Abhilash\\anaconda3\\lib\\site-packages\\seaborn\\_decorators.py:36: FutureWarning: Pass the following variable as a keyword arg: x. From version 0.12, the only valid positional argument will be `data`, and passing other arguments without an explicit keyword will result in an error or misinterpretation.\n",
      "  warnings.warn(\n"
     ]
    },
    {
     "data": {
      "text/plain": [
       "<AxesSubplot:xlabel='TOEFL Score'>"
      ]
     },
     "execution_count": 36,
     "metadata": {},
     "output_type": "execute_result"
    },
    {
     "data": {
      "image/png": "[encoded data removed]",
      "text/plain": [
       "<Figure size 432x288 with 1 Axes>"
      ]
     },
     "metadata": {
      "needs_background": "light"
     },
     "output_type": "display_data"
    }
   ],
   "source": [
    "sns.boxplot(df['TOEFL Score'])"
   ]
  },
  {
   "cell_type": "markdown",
   "id": "b9a95aa8",
   "metadata": {},
   "source": [
    "#### There are no outliers "
   ]
  },
  {
   "cell_type": "code",
   "execution_count": 37,
   "id": "37f915d0",
   "metadata": {},
   "outputs": [],
   "source": [
    "#Spliting for validation and training the model\n",
    "\n",
    "Y1=df_Train['Chance of Admit']\n",
    "X1=df_Train.drop(columns=\"Chance of Admit\")\n",
    "X_train, X_val, y_train, y_val = train_test_split(X1, Y1, test_size=0.2, random_state=42)"
   ]
  },
  {
   "cell_type": "code",
   "execution_count": 38,
   "id": "1623f65f",
   "metadata": {},
   "outputs": [
    {
     "data": {
      "text/html": [
       "<div>\n",
       "<style scoped>\n",
       "    .dataframe tbody tr th:only-of-type {\n",
       "        vertical-align: middle;\n",
       "    }\n",
       "\n",
       "    .dataframe tbody tr th {\n",
       "        vertical-align: top;\n",
       "    }\n",
       "\n",
       "    .dataframe thead th {\n",
       "        text-align: right;\n",
       "    }\n",
       "</style>\n",
       "<table border=\"1\" class=\"dataframe\">\n",
       "  <thead>\n",
       "    <tr style=\"text-align: right;\">\n",
       "      <th></th>\n",
       "      <th>GRE Score</th>\n",
       "      <th>TOEFL Score</th>\n",
       "      <th>University Rating</th>\n",
       "      <th>SOP</th>\n",
       "      <th>LOR</th>\n",
       "      <th>CGPA</th>\n",
       "      <th>Research</th>\n",
       "    </tr>\n",
       "  </thead>\n",
       "  <tbody>\n",
       "    <tr>\n",
       "      <th>3</th>\n",
       "      <td>314</td>\n",
       "      <td>107</td>\n",
       "      <td>2</td>\n",
       "      <td>2.5</td>\n",
       "      <td>4.0</td>\n",
       "      <td>8.27</td>\n",
       "      <td>0</td>\n",
       "    </tr>\n",
       "    <tr>\n",
       "      <th>18</th>\n",
       "      <td>290</td>\n",
       "      <td>104</td>\n",
       "      <td>4</td>\n",
       "      <td>2.0</td>\n",
       "      <td>2.5</td>\n",
       "      <td>7.46</td>\n",
       "      <td>0</td>\n",
       "    </tr>\n",
       "    <tr>\n",
       "      <th>202</th>\n",
       "      <td>328</td>\n",
       "      <td>108</td>\n",
       "      <td>4</td>\n",
       "      <td>4.5</td>\n",
       "      <td>4.0</td>\n",
       "      <td>9.18</td>\n",
       "      <td>1</td>\n",
       "    </tr>\n",
       "    <tr>\n",
       "      <th>250</th>\n",
       "      <td>321</td>\n",
       "      <td>114</td>\n",
       "      <td>4</td>\n",
       "      <td>4.0</td>\n",
       "      <td>5.0</td>\n",
       "      <td>9.12</td>\n",
       "      <td>0</td>\n",
       "    </tr>\n",
       "    <tr>\n",
       "      <th>274</th>\n",
       "      <td>314</td>\n",
       "      <td>104</td>\n",
       "      <td>4</td>\n",
       "      <td>5.0</td>\n",
       "      <td>5.0</td>\n",
       "      <td>9.02</td>\n",
       "      <td>0</td>\n",
       "    </tr>\n",
       "    <tr>\n",
       "      <th>...</th>\n",
       "      <td>...</td>\n",
       "      <td>...</td>\n",
       "      <td>...</td>\n",
       "      <td>...</td>\n",
       "      <td>...</td>\n",
       "      <td>...</td>\n",
       "      <td>...</td>\n",
       "    </tr>\n",
       "    <tr>\n",
       "      <th>71</th>\n",
       "      <td>309</td>\n",
       "      <td>104</td>\n",
       "      <td>2</td>\n",
       "      <td>2.0</td>\n",
       "      <td>2.5</td>\n",
       "      <td>8.26</td>\n",
       "      <td>0</td>\n",
       "    </tr>\n",
       "    <tr>\n",
       "      <th>106</th>\n",
       "      <td>318</td>\n",
       "      <td>112</td>\n",
       "      <td>3</td>\n",
       "      <td>4.0</td>\n",
       "      <td>3.5</td>\n",
       "      <td>8.67</td>\n",
       "      <td>0</td>\n",
       "    </tr>\n",
       "    <tr>\n",
       "      <th>270</th>\n",
       "      <td>298</td>\n",
       "      <td>98</td>\n",
       "      <td>2</td>\n",
       "      <td>1.5</td>\n",
       "      <td>2.5</td>\n",
       "      <td>7.50</td>\n",
       "      <td>1</td>\n",
       "    </tr>\n",
       "    <tr>\n",
       "      <th>348</th>\n",
       "      <td>321</td>\n",
       "      <td>102</td>\n",
       "      <td>3</td>\n",
       "      <td>3.5</td>\n",
       "      <td>4.0</td>\n",
       "      <td>9.01</td>\n",
       "      <td>1</td>\n",
       "    </tr>\n",
       "    <tr>\n",
       "      <th>102</th>\n",
       "      <td>328</td>\n",
       "      <td>110</td>\n",
       "      <td>4</td>\n",
       "      <td>4.0</td>\n",
       "      <td>2.5</td>\n",
       "      <td>9.02</td>\n",
       "      <td>1</td>\n",
       "    </tr>\n",
       "  </tbody>\n",
       "</table>\n",
       "<p>320 rows × 7 columns</p>\n",
       "</div>"
      ],
      "text/plain": [
       "     GRE Score  TOEFL Score  University Rating  SOP  LOR   CGPA  Research\n",
       "3          314          107                  2  2.5   4.0  8.27         0\n",
       "18         290          104                  4  2.0   2.5  7.46         0\n",
       "202        328          108                  4  4.5   4.0  9.18         1\n",
       "250        321          114                  4  4.0   5.0  9.12         0\n",
       "274        314          104                  4  5.0   5.0  9.02         0\n",
       "..         ...          ...                ...  ...   ...   ...       ...\n",
       "71         309          104                  2  2.0   2.5  8.26         0\n",
       "106        318          112                  3  4.0   3.5  8.67         0\n",
       "270        298           98                  2  1.5   2.5  7.50         1\n",
       "348        321          102                  3  3.5   4.0  9.01         1\n",
       "102        328          110                  4  4.0   2.5  9.02         1\n",
       "\n",
       "[320 rows x 7 columns]"
      ]
     },
     "execution_count": 38,
     "metadata": {},
     "output_type": "execute_result"
    }
   ],
   "source": [
    "X_train"
   ]
  },
  {
   "cell_type": "markdown",
   "id": "83cb9bde",
   "metadata": {},
   "source": [
    "#### Training the model with statsmodels"
   ]
  },
  {
   "cell_type": "code",
   "execution_count": 39,
   "id": "00027589",
   "metadata": {},
   "outputs": [],
   "source": [
    "from statsmodels.stats.outliers_influence import variance_inflation_factor"
   ]
  },
  {
   "cell_type": "markdown",
   "id": "8a4c7ed3",
   "metadata": {},
   "source": [
    "#### Test the assumptions of linear regression:"
   ]
  },
  {
   "cell_type": "markdown",
   "id": "ecaed760",
   "metadata": {},
   "source": [
    "#### Checking for Multicollinearity usiing VIF"
   ]
  },
  {
   "cell_type": "code",
   "execution_count": 40,
   "id": "a1880ade",
   "metadata": {},
   "outputs": [
    {
     "name": "stdout",
     "output_type": "stream",
     "text": [
      "             feature          VIF\n",
      "0          GRE Score  1316.790049\n",
      "1        TOEFL Score  1164.447151\n",
      "2  University Rating    21.445031\n",
      "3                SOP    34.484495\n",
      "4               LOR     29.034340\n",
      "5               CGPA   995.639817\n",
      "6           Research     2.932189\n"
     ]
    }
   ],
   "source": [
    "X =X_train\n",
    "\n",
    "vif_data = pd.DataFrame()\n",
    "vif_data[\"feature\"] = X.columns\n",
    "vif_data[\"VIF\"] = [variance_inflation_factor(X.values, i)\n",
    "                          for i in range(len(X.columns))]\n",
    "print(vif_data)"
   ]
  },
  {
   "cell_type": "markdown",
   "id": "1a20aa85",
   "metadata": {},
   "source": [
    "#### We need to scale first before using VIF"
   ]
  },
  {
   "cell_type": "code",
   "execution_count": 41,
   "id": "5fd9e138",
   "metadata": {},
   "outputs": [
    {
     "data": {
      "text/html": [
       "<div>\n",
       "<style scoped>\n",
       "    .dataframe tbody tr th:only-of-type {\n",
       "        vertical-align: middle;\n",
       "    }\n",
       "\n",
       "    .dataframe tbody tr th {\n",
       "        vertical-align: top;\n",
       "    }\n",
       "\n",
       "    .dataframe thead th {\n",
       "        text-align: right;\n",
       "    }\n",
       "</style>\n",
       "<table border=\"1\" class=\"dataframe\">\n",
       "  <thead>\n",
       "    <tr style=\"text-align: right;\">\n",
       "      <th></th>\n",
       "      <th>GRE Score</th>\n",
       "      <th>TOEFL Score</th>\n",
       "      <th>University Rating</th>\n",
       "      <th>SOP</th>\n",
       "      <th>LOR</th>\n",
       "      <th>CGPA</th>\n",
       "      <th>Research</th>\n",
       "    </tr>\n",
       "  </thead>\n",
       "  <tbody>\n",
       "    <tr>\n",
       "      <th>0</th>\n",
       "      <td>-0.272000</td>\n",
       "      <td>-0.056712</td>\n",
       "      <td>-1.033938</td>\n",
       "      <td>-0.931349</td>\n",
       "      <td>0.565174</td>\n",
       "      <td>-0.535566</td>\n",
       "      <td>-1.112548</td>\n",
       "    </tr>\n",
       "    <tr>\n",
       "      <th>1</th>\n",
       "      <td>-2.423346</td>\n",
       "      <td>-0.534284</td>\n",
       "      <td>0.735368</td>\n",
       "      <td>-1.444313</td>\n",
       "      <td>-1.059278</td>\n",
       "      <td>-1.876290</td>\n",
       "      <td>-1.112548</td>\n",
       "    </tr>\n",
       "    <tr>\n",
       "      <th>2</th>\n",
       "      <td>0.982953</td>\n",
       "      <td>0.102479</td>\n",
       "      <td>0.735368</td>\n",
       "      <td>1.120505</td>\n",
       "      <td>0.565174</td>\n",
       "      <td>0.970680</td>\n",
       "      <td>0.898838</td>\n",
       "    </tr>\n",
       "    <tr>\n",
       "      <th>3</th>\n",
       "      <td>0.355476</td>\n",
       "      <td>1.057625</td>\n",
       "      <td>0.735368</td>\n",
       "      <td>0.607541</td>\n",
       "      <td>1.648141</td>\n",
       "      <td>0.871367</td>\n",
       "      <td>-1.112548</td>\n",
       "    </tr>\n",
       "    <tr>\n",
       "      <th>4</th>\n",
       "      <td>-0.272000</td>\n",
       "      <td>-0.534284</td>\n",
       "      <td>0.735368</td>\n",
       "      <td>1.633468</td>\n",
       "      <td>1.648141</td>\n",
       "      <td>0.705846</td>\n",
       "      <td>-1.112548</td>\n",
       "    </tr>\n",
       "    <tr>\n",
       "      <th>...</th>\n",
       "      <td>...</td>\n",
       "      <td>...</td>\n",
       "      <td>...</td>\n",
       "      <td>...</td>\n",
       "      <td>...</td>\n",
       "      <td>...</td>\n",
       "      <td>...</td>\n",
       "    </tr>\n",
       "    <tr>\n",
       "      <th>315</th>\n",
       "      <td>-0.720197</td>\n",
       "      <td>-0.534284</td>\n",
       "      <td>-1.033938</td>\n",
       "      <td>-1.444313</td>\n",
       "      <td>-1.059278</td>\n",
       "      <td>-0.552118</td>\n",
       "      <td>-1.112548</td>\n",
       "    </tr>\n",
       "    <tr>\n",
       "      <th>316</th>\n",
       "      <td>0.086558</td>\n",
       "      <td>0.739243</td>\n",
       "      <td>-0.149285</td>\n",
       "      <td>0.607541</td>\n",
       "      <td>0.023690</td>\n",
       "      <td>0.126521</td>\n",
       "      <td>-1.112548</td>\n",
       "    </tr>\n",
       "    <tr>\n",
       "      <th>317</th>\n",
       "      <td>-1.706231</td>\n",
       "      <td>-1.489430</td>\n",
       "      <td>-1.033938</td>\n",
       "      <td>-1.957276</td>\n",
       "      <td>-1.059278</td>\n",
       "      <td>-1.810081</td>\n",
       "      <td>0.898838</td>\n",
       "    </tr>\n",
       "    <tr>\n",
       "      <th>318</th>\n",
       "      <td>0.355476</td>\n",
       "      <td>-0.852666</td>\n",
       "      <td>-0.149285</td>\n",
       "      <td>0.094578</td>\n",
       "      <td>0.565174</td>\n",
       "      <td>0.689294</td>\n",
       "      <td>0.898838</td>\n",
       "    </tr>\n",
       "    <tr>\n",
       "      <th>319</th>\n",
       "      <td>0.982953</td>\n",
       "      <td>0.420861</td>\n",
       "      <td>0.735368</td>\n",
       "      <td>0.607541</td>\n",
       "      <td>-1.059278</td>\n",
       "      <td>0.705846</td>\n",
       "      <td>0.898838</td>\n",
       "    </tr>\n",
       "  </tbody>\n",
       "</table>\n",
       "<p>320 rows × 7 columns</p>\n",
       "</div>"
      ],
      "text/plain": [
       "     GRE Score  TOEFL Score  University Rating       SOP      LOR       CGPA  \\\n",
       "0    -0.272000    -0.056712          -1.033938 -0.931349  0.565174 -0.535566   \n",
       "1    -2.423346    -0.534284           0.735368 -1.444313 -1.059278 -1.876290   \n",
       "2     0.982953     0.102479           0.735368  1.120505  0.565174  0.970680   \n",
       "3     0.355476     1.057625           0.735368  0.607541  1.648141  0.871367   \n",
       "4    -0.272000    -0.534284           0.735368  1.633468  1.648141  0.705846   \n",
       "..         ...          ...                ...       ...       ...       ...   \n",
       "315  -0.720197    -0.534284          -1.033938 -1.444313 -1.059278 -0.552118   \n",
       "316   0.086558     0.739243          -0.149285  0.607541  0.023690  0.126521   \n",
       "317  -1.706231    -1.489430          -1.033938 -1.957276 -1.059278 -1.810081   \n",
       "318   0.355476    -0.852666          -0.149285  0.094578  0.565174  0.689294   \n",
       "319   0.982953     0.420861           0.735368  0.607541 -1.059278  0.705846   \n",
       "\n",
       "     Research  \n",
       "0   -1.112548  \n",
       "1   -1.112548  \n",
       "2    0.898838  \n",
       "3   -1.112548  \n",
       "4   -1.112548  \n",
       "..        ...  \n",
       "315 -1.112548  \n",
       "316 -1.112548  \n",
       "317  0.898838  \n",
       "318  0.898838  \n",
       "319  0.898838  \n",
       "\n",
       "[320 rows x 7 columns]"
      ]
     },
     "execution_count": 41,
     "metadata": {},
     "output_type": "execute_result"
    }
   ],
   "source": [
    "#Standard Scalar mean=0 std =1\n",
    "from sklearn.preprocessing import StandardScaler\n",
    "scaler = StandardScaler()\n",
    "scaler.fit(X_train)\n",
    "X_train_scaled=scaler.transform(X_train)\n",
    "X_train=pd.DataFrame(X_train_scaled,columns=X_train.columns)\n",
    "X_train"
   ]
  },
  {
   "cell_type": "code",
   "execution_count": 42,
   "id": "598b7328",
   "metadata": {},
   "outputs": [
    {
     "name": "stdout",
     "output_type": "stream",
     "text": [
      "             feature       VIF\n",
      "0          GRE Score  4.810672\n",
      "1        TOEFL Score  4.010787\n",
      "2  University Rating  2.582778\n",
      "3                SOP  2.669448\n",
      "4               LOR   1.911827\n",
      "5               CGPA  4.951053\n",
      "6           Research  1.582583\n"
     ]
    }
   ],
   "source": [
    "X =X_train\n",
    "\n",
    "vif_data = pd.DataFrame()\n",
    "vif_data[\"feature\"] = X.columns\n",
    "vif_data[\"VIF\"] = [variance_inflation_factor(X.values, i)\n",
    "                          for i in range(len(X.columns))]\n",
    "print(vif_data)"
   ]
  },
  {
   "cell_type": "markdown",
   "id": "29bfadf0",
   "metadata": {},
   "source": [
    "### Training the model"
   ]
  },
  {
   "cell_type": "code",
   "execution_count": 43,
   "id": "ebb41245",
   "metadata": {},
   "outputs": [
    {
     "name": "stderr",
     "output_type": "stream",
     "text": [
      "C:\\Users\\Abhilash\\anaconda3\\lib\\site-packages\\statsmodels\\tsa\\base\\tsa_model.py:7: FutureWarning: pandas.Int64Index is deprecated and will be removed from pandas in a future version. Use pandas.Index with the appropriate dtype instead.\n",
      "  from pandas import (to_datetime, Int64Index, DatetimeIndex, Period,\n",
      "C:\\Users\\Abhilash\\anaconda3\\lib\\site-packages\\statsmodels\\tsa\\base\\tsa_model.py:7: FutureWarning: pandas.Float64Index is deprecated and will be removed from pandas in a future version. Use pandas.Index with the appropriate dtype instead.\n",
      "  from pandas import (to_datetime, Int64Index, DatetimeIndex, Period,\n"
     ]
    }
   ],
   "source": [
    "import statsmodels.api as sm\n",
    "X =X_train_scaled\n",
    "y =y_train\n",
    "X = sm.add_constant(X)\n",
    "model = sm.OLS(y, X)\n",
    "results = model.fit()"
   ]
  },
  {
   "cell_type": "code",
   "execution_count": 44,
   "id": "473d4d0c",
   "metadata": {},
   "outputs": [
    {
     "name": "stdout",
     "output_type": "stream",
     "text": [
      "                            OLS Regression Results                            \n",
      "==============================================================================\n",
      "Dep. Variable:        Chance of Admit   R-squared:                       0.819\n",
      "Model:                            OLS   Adj. R-squared:                  0.815\n",
      "Method:                 Least Squares   F-statistic:                     201.7\n",
      "Date:                Wed, 14 Jun 2023   Prob (F-statistic):          8.86e-112\n",
      "Time:                        22:51:43   Log-Likelihood:                 440.27\n",
      "No. Observations:                 320   AIC:                            -864.5\n",
      "Df Residuals:                     312   BIC:                            -834.4\n",
      "Df Model:                           7                                         \n",
      "Covariance Type:            nonrobust                                         \n",
      "==============================================================================\n",
      "                 coef    std err          t      P>|t|      [0.025      0.975]\n",
      "------------------------------------------------------------------------------\n",
      "const          0.7250      0.003    209.502      0.000       0.718       0.732\n",
      "x1             0.0238      0.008      3.138      0.002       0.009       0.039\n",
      "x2             0.0209      0.007      3.015      0.003       0.007       0.035\n",
      "x3            -0.0003      0.006     -0.054      0.957      -0.011       0.011\n",
      "x4             0.0063      0.006      1.118      0.264      -0.005       0.017\n",
      "x5             0.0172      0.005      3.597      0.000       0.008       0.027\n",
      "x6             0.0654      0.008      8.489      0.000       0.050       0.081\n",
      "x7             0.0158      0.004      3.636      0.000       0.007       0.024\n",
      "==============================================================================\n",
      "Omnibus:                       69.369   Durbin-Watson:                   2.189\n",
      "Prob(Omnibus):                  0.000   Jarque-Bera (JB):              140.029\n",
      "Skew:                          -1.122   Prob(JB):                     3.92e-31\n",
      "Kurtosis:                       5.337   Cond. No.                         5.84\n",
      "==============================================================================\n",
      "\n",
      "Notes:\n",
      "[1] Standard Errors assume that the covariance matrix of the errors is correctly specified.\n"
     ]
    }
   ],
   "source": [
    "print(results.summary())"
   ]
  },
  {
   "cell_type": "markdown",
   "id": "e00e6488",
   "metadata": {},
   "source": [
    "### Model Interpretability and Feature Importance\n",
    "\n",
    "#### X6 ---> has a high weight 0.0686 [CGPA]\n",
    "\n",
    "#### X1 and X2 --->  has next high weight 0.02 [GRE Score ,TOEFL Score ]\n",
    "\n",
    "these feature are deciding feature for our target variable"
   ]
  },
  {
   "cell_type": "code",
   "execution_count": null,
   "id": "1092e17c",
   "metadata": {},
   "outputs": [],
   "source": []
  },
  {
   "cell_type": "markdown",
   "id": "1a8ff9c8",
   "metadata": {},
   "source": [
    "#### Test the assumptions of linear regression :\n",
    "\n",
    "##### Normality of residuals"
   ]
  },
  {
   "cell_type": "code",
   "execution_count": 45,
   "id": "885e7d81",
   "metadata": {},
   "outputs": [
    {
     "data": {
      "text/plain": [
       "<AxesSubplot:ylabel='Density'>"
      ]
     },
     "execution_count": 45,
     "metadata": {},
     "output_type": "execute_result"
    },
    {
     "data": {
      "image/png": "[encoded data removed]",
      "text/plain": [
       "<Figure size 432x288 with 1 Axes>"
      ]
     },
     "metadata": {
      "needs_background": "light"
     },
     "output_type": "display_data"
    }
   ],
   "source": [
    "y_train_predicted=results.fittedvalues\n",
    "resudials=y_train_predicted-y_train\n",
    "sns.kdeplot(resudials)"
   ]
  },
  {
   "cell_type": "markdown",
   "id": "b1ae77b1",
   "metadata": {},
   "source": [
    "#### Residials are normal"
   ]
  },
  {
   "cell_type": "markdown",
   "id": "d93280c8",
   "metadata": {},
   "source": [
    "#### Test for Homoscedasticity"
   ]
  },
  {
   "cell_type": "code",
   "execution_count": 46,
   "id": "9704f92c",
   "metadata": {},
   "outputs": [
    {
     "data": {
      "text/plain": [
       "Text(0, 0.5, 'Residuals')"
      ]
     },
     "execution_count": 46,
     "metadata": {},
     "output_type": "execute_result"
    },
    {
     "data": {
      "image/png": "[encoded data removed]",
      "text/plain": [
       "<Figure size 432x288 with 1 Axes>"
      ]
     },
     "metadata": {
      "needs_background": "light"
     },
     "output_type": "display_data"
    }
   ],
   "source": [
    "sns.scatterplot(x=resudials,y=y_train_predicted)\n",
    "plt.xlabel('y_pred/predicted values')\n",
    "plt.ylabel('Residuals')"
   ]
  },
  {
   "cell_type": "code",
   "execution_count": 47,
   "id": "aad769a5",
   "metadata": {},
   "outputs": [
    {
     "data": {
      "text/plain": [
       "Text(0, 0.5, 'Residuals')"
      ]
     },
     "execution_count": 47,
     "metadata": {},
     "output_type": "execute_result"
    },
    {
     "data": {
      "image/png": "[encoded data removed]",
      "text/plain": [
       "<Figure size 432x288 with 1 Axes>"
      ]
     },
     "metadata": {
      "needs_background": "light"
     },
     "output_type": "display_data"
    }
   ],
   "source": [
    "sns.scatterplot(x=resudials,y=X_train_scaled[:,1])\n",
    "plt.xlabel('X_feature')\n",
    "plt.ylabel('Residuals')"
   ]
  },
  {
   "cell_type": "markdown",
   "id": "2d6cd455",
   "metadata": {},
   "source": [
    "#### variance are in range "
   ]
  },
  {
   "cell_type": "markdown",
   "id": "83a20106",
   "metadata": {},
   "source": [
    "### Check for Auto Co-relation"
   ]
  },
  {
   "cell_type": "code",
   "execution_count": 48,
   "id": "0ffd6e03",
   "metadata": {},
   "outputs": [
    {
     "data": {
      "image/png": "[encoded data removed]",
      "text/plain": [
       "<Figure size 432x288 with 1 Axes>"
      ]
     },
     "metadata": {
      "needs_background": "light"
     },
     "output_type": "display_data"
    }
   ],
   "source": [
    "sm.graphics.tsa.plot_acf(resudials, lags=40)\n",
    "plt.show()"
   ]
  },
  {
   "cell_type": "markdown",
   "id": "5b438554",
   "metadata": {},
   "source": [
    "#### Looks like there is some kind of Auto-corrr"
   ]
  },
  {
   "cell_type": "markdown",
   "id": "4111d466",
   "metadata": {},
   "source": [
    "### Checking our model for validation set"
   ]
  },
  {
   "cell_type": "code",
   "execution_count": 49,
   "id": "f0d748e1",
   "metadata": {},
   "outputs": [
    {
     "data": {
      "text/plain": [
       "array([0.95247301, 0.8203729 , 0.5121543 , 0.60301263, 0.46529369,\n",
       "       0.61949447, 0.73821666, 0.68970289, 0.68357223, 0.70027342,\n",
       "       0.67932192, 0.45140695, 0.74933438, 0.69692854, 0.58341823,\n",
       "       0.82130081, 0.6497617 , 0.61190836, 0.85558207, 0.66422913,\n",
       "       0.63795155, 0.8267926 , 0.82168708, 0.90383823, 0.79579784,\n",
       "       0.65295165, 0.69327237, 0.77824447, 0.90751223, 0.68760923,\n",
       "       0.86629077, 0.70136114, 0.53719568, 0.80119661, 0.85821451,\n",
       "       0.94064779, 0.70108817, 0.58565454, 0.82486337, 0.67524853,\n",
       "       0.91244574, 0.61905212, 0.73588329, 0.69058373, 0.5747363 ,\n",
       "       0.65238962, 0.63112437, 0.68545811, 0.72884494, 0.77657957,\n",
       "       0.96281874, 0.77312636, 0.65405378, 0.5347526 , 0.64490163,\n",
       "       0.6662681 , 0.76547656, 0.70994487, 0.72789469, 0.62140226,\n",
       "       0.7734901 , 0.68393234, 0.73527348, 0.80943011, 0.88061963,\n",
       "       0.72347241, 0.62960973, 0.70414328, 0.95961763, 0.4906622 ,\n",
       "       0.80552553, 0.70294391, 0.54025024, 0.64624556, 0.92580569,\n",
       "       0.69647584, 0.78929288, 0.56985914, 0.58045718, 0.65627096])"
      ]
     },
     "execution_count": 49,
     "metadata": {},
     "output_type": "execute_result"
    }
   ],
   "source": [
    "X_val=scaler.transform(X_val)\n",
    "X_val = sm.add_constant(X_val)\n",
    "results.predict(X_val)"
   ]
  },
  {
   "cell_type": "code",
   "execution_count": 50,
   "id": "a232db35",
   "metadata": {},
   "outputs": [],
   "source": [
    "y_predicted_valid=results.predict(X_val)\n"
   ]
  },
  {
   "cell_type": "code",
   "execution_count": 51,
   "id": "8871875f",
   "metadata": {},
   "outputs": [
    {
     "data": {
      "text/plain": [
       "0.002809786486950893"
      ]
     },
     "execution_count": 51,
     "metadata": {},
     "output_type": "execute_result"
    }
   ],
   "source": [
    "#MSE\n",
    "mean_squared_error(y_val,y_predicted_valid)"
   ]
  },
  {
   "cell_type": "code",
   "execution_count": 52,
   "id": "bfd22862",
   "metadata": {},
   "outputs": [
    {
     "data": {
      "text/plain": [
       "0.8237211013907553"
      ]
     },
     "execution_count": 52,
     "metadata": {},
     "output_type": "execute_result"
    }
   ],
   "source": [
    "#r-2 score\n",
    "r2_score(y_val,y_predicted_valid)"
   ]
  },
  {
   "cell_type": "markdown",
   "id": "63ca2e85",
   "metadata": {},
   "source": [
    "#### From this we find the training r2 score is 0.82 and validation r2 score is 0.76 \n",
    "##### lets try some polynimail feature"
   ]
  },
  {
   "cell_type": "code",
   "execution_count": 53,
   "id": "d25d234c",
   "metadata": {},
   "outputs": [
    {
     "name": "stderr",
     "output_type": "stream",
     "text": [
      "C:\\Users\\Abhilash\\anaconda3\\lib\\site-packages\\sklearn\\utils\\deprecation.py:87: FutureWarning: Function get_feature_names is deprecated; get_feature_names is deprecated in 1.0 and will be removed in 1.2. Please use get_feature_names_out instead.\n",
      "  warnings.warn(msg, category=FutureWarning)\n"
     ]
    },
    {
     "data": {
      "text/html": [
       "<div>\n",
       "<style scoped>\n",
       "    .dataframe tbody tr th:only-of-type {\n",
       "        vertical-align: middle;\n",
       "    }\n",
       "\n",
       "    .dataframe tbody tr th {\n",
       "        vertical-align: top;\n",
       "    }\n",
       "\n",
       "    .dataframe thead th {\n",
       "        text-align: right;\n",
       "    }\n",
       "</style>\n",
       "<table border=\"1\" class=\"dataframe\">\n",
       "  <thead>\n",
       "    <tr style=\"text-align: right;\">\n",
       "      <th></th>\n",
       "      <th>GRE Score</th>\n",
       "      <th>TOEFL Score</th>\n",
       "      <th>University Rating</th>\n",
       "      <th>SOP</th>\n",
       "      <th>LOR</th>\n",
       "      <th>CGPA</th>\n",
       "      <th>Research</th>\n",
       "      <th>GRE Score^2</th>\n",
       "      <th>GRE Score TOEFL Score</th>\n",
       "      <th>GRE Score University Rating</th>\n",
       "      <th>...</th>\n",
       "      <th>SOP^2</th>\n",
       "      <th>SOP LOR</th>\n",
       "      <th>SOP CGPA</th>\n",
       "      <th>SOP Research</th>\n",
       "      <th>LOR ^2</th>\n",
       "      <th>LOR  CGPA</th>\n",
       "      <th>LOR  Research</th>\n",
       "      <th>CGPA^2</th>\n",
       "      <th>CGPA Research</th>\n",
       "      <th>Research^2</th>\n",
       "    </tr>\n",
       "  </thead>\n",
       "  <tbody>\n",
       "    <tr>\n",
       "      <th>0</th>\n",
       "      <td>-0.272000</td>\n",
       "      <td>-0.056712</td>\n",
       "      <td>-1.033938</td>\n",
       "      <td>-0.931349</td>\n",
       "      <td>0.565174</td>\n",
       "      <td>-0.535566</td>\n",
       "      <td>-1.112548</td>\n",
       "      <td>0.073984</td>\n",
       "      <td>0.015426</td>\n",
       "      <td>0.281231</td>\n",
       "      <td>...</td>\n",
       "      <td>0.867412</td>\n",
       "      <td>-0.526374</td>\n",
       "      <td>0.498799</td>\n",
       "      <td>1.036170</td>\n",
       "      <td>0.319421</td>\n",
       "      <td>-0.302688</td>\n",
       "      <td>-0.628783</td>\n",
       "      <td>0.286830</td>\n",
       "      <td>0.595842</td>\n",
       "      <td>1.237762</td>\n",
       "    </tr>\n",
       "    <tr>\n",
       "      <th>1</th>\n",
       "      <td>-2.423346</td>\n",
       "      <td>-0.534284</td>\n",
       "      <td>0.735368</td>\n",
       "      <td>-1.444313</td>\n",
       "      <td>-1.059278</td>\n",
       "      <td>-1.876290</td>\n",
       "      <td>-1.112548</td>\n",
       "      <td>5.872608</td>\n",
       "      <td>1.294756</td>\n",
       "      <td>-1.782051</td>\n",
       "      <td>...</td>\n",
       "      <td>2.086039</td>\n",
       "      <td>1.529928</td>\n",
       "      <td>2.709949</td>\n",
       "      <td>1.606867</td>\n",
       "      <td>1.122069</td>\n",
       "      <td>1.987512</td>\n",
       "      <td>1.178497</td>\n",
       "      <td>3.520463</td>\n",
       "      <td>2.087462</td>\n",
       "      <td>1.237762</td>\n",
       "    </tr>\n",
       "    <tr>\n",
       "      <th>2</th>\n",
       "      <td>0.982953</td>\n",
       "      <td>0.102479</td>\n",
       "      <td>0.735368</td>\n",
       "      <td>1.120505</td>\n",
       "      <td>0.565174</td>\n",
       "      <td>0.970680</td>\n",
       "      <td>0.898838</td>\n",
       "      <td>0.966196</td>\n",
       "      <td>0.100732</td>\n",
       "      <td>0.722832</td>\n",
       "      <td>...</td>\n",
       "      <td>1.255531</td>\n",
       "      <td>0.633280</td>\n",
       "      <td>1.087652</td>\n",
       "      <td>1.007152</td>\n",
       "      <td>0.319421</td>\n",
       "      <td>0.548603</td>\n",
       "      <td>0.508000</td>\n",
       "      <td>0.942220</td>\n",
       "      <td>0.872484</td>\n",
       "      <td>0.807910</td>\n",
       "    </tr>\n",
       "    <tr>\n",
       "      <th>3</th>\n",
       "      <td>0.355476</td>\n",
       "      <td>1.057625</td>\n",
       "      <td>0.735368</td>\n",
       "      <td>0.607541</td>\n",
       "      <td>1.648141</td>\n",
       "      <td>0.871367</td>\n",
       "      <td>-1.112548</td>\n",
       "      <td>0.126363</td>\n",
       "      <td>0.375961</td>\n",
       "      <td>0.261406</td>\n",
       "      <td>...</td>\n",
       "      <td>0.369106</td>\n",
       "      <td>1.001314</td>\n",
       "      <td>0.529391</td>\n",
       "      <td>-0.675918</td>\n",
       "      <td>2.716370</td>\n",
       "      <td>1.436137</td>\n",
       "      <td>-1.833636</td>\n",
       "      <td>0.759281</td>\n",
       "      <td>-0.969438</td>\n",
       "      <td>1.237762</td>\n",
       "    </tr>\n",
       "    <tr>\n",
       "      <th>4</th>\n",
       "      <td>-0.272000</td>\n",
       "      <td>-0.534284</td>\n",
       "      <td>0.735368</td>\n",
       "      <td>1.633468</td>\n",
       "      <td>1.648141</td>\n",
       "      <td>0.705846</td>\n",
       "      <td>-1.112548</td>\n",
       "      <td>0.073984</td>\n",
       "      <td>0.145325</td>\n",
       "      <td>-0.200020</td>\n",
       "      <td>...</td>\n",
       "      <td>2.668218</td>\n",
       "      <td>2.692186</td>\n",
       "      <td>1.152977</td>\n",
       "      <td>-1.817311</td>\n",
       "      <td>2.716370</td>\n",
       "      <td>1.163334</td>\n",
       "      <td>-1.833636</td>\n",
       "      <td>0.498218</td>\n",
       "      <td>-0.785287</td>\n",
       "      <td>1.237762</td>\n",
       "    </tr>\n",
       "    <tr>\n",
       "      <th>...</th>\n",
       "      <td>...</td>\n",
       "      <td>...</td>\n",
       "      <td>...</td>\n",
       "      <td>...</td>\n",
       "      <td>...</td>\n",
       "      <td>...</td>\n",
       "      <td>...</td>\n",
       "      <td>...</td>\n",
       "      <td>...</td>\n",
       "      <td>...</td>\n",
       "      <td>...</td>\n",
       "      <td>...</td>\n",
       "      <td>...</td>\n",
       "      <td>...</td>\n",
       "      <td>...</td>\n",
       "      <td>...</td>\n",
       "      <td>...</td>\n",
       "      <td>...</td>\n",
       "      <td>...</td>\n",
       "      <td>...</td>\n",
       "      <td>...</td>\n",
       "    </tr>\n",
       "    <tr>\n",
       "      <th>315</th>\n",
       "      <td>-0.720197</td>\n",
       "      <td>-0.534284</td>\n",
       "      <td>-1.033938</td>\n",
       "      <td>-1.444313</td>\n",
       "      <td>-1.059278</td>\n",
       "      <td>-0.552118</td>\n",
       "      <td>-1.112548</td>\n",
       "      <td>0.518684</td>\n",
       "      <td>0.384790</td>\n",
       "      <td>0.744639</td>\n",
       "      <td>...</td>\n",
       "      <td>2.086039</td>\n",
       "      <td>1.529928</td>\n",
       "      <td>0.797431</td>\n",
       "      <td>1.606867</td>\n",
       "      <td>1.122069</td>\n",
       "      <td>0.584846</td>\n",
       "      <td>1.178497</td>\n",
       "      <td>0.304834</td>\n",
       "      <td>0.614257</td>\n",
       "      <td>1.237762</td>\n",
       "    </tr>\n",
       "    <tr>\n",
       "      <th>316</th>\n",
       "      <td>0.086558</td>\n",
       "      <td>0.739243</td>\n",
       "      <td>-0.149285</td>\n",
       "      <td>0.607541</td>\n",
       "      <td>0.023690</td>\n",
       "      <td>0.126521</td>\n",
       "      <td>-1.112548</td>\n",
       "      <td>0.007492</td>\n",
       "      <td>0.063987</td>\n",
       "      <td>-0.012922</td>\n",
       "      <td>...</td>\n",
       "      <td>0.369106</td>\n",
       "      <td>0.014393</td>\n",
       "      <td>0.076866</td>\n",
       "      <td>-0.675918</td>\n",
       "      <td>0.000561</td>\n",
       "      <td>0.002997</td>\n",
       "      <td>-0.026356</td>\n",
       "      <td>0.016007</td>\n",
       "      <td>-0.140760</td>\n",
       "      <td>1.237762</td>\n",
       "    </tr>\n",
       "    <tr>\n",
       "      <th>317</th>\n",
       "      <td>-1.706231</td>\n",
       "      <td>-1.489430</td>\n",
       "      <td>-1.033938</td>\n",
       "      <td>-1.957276</td>\n",
       "      <td>-1.059278</td>\n",
       "      <td>-1.810081</td>\n",
       "      <td>0.898838</td>\n",
       "      <td>2.911224</td>\n",
       "      <td>2.541311</td>\n",
       "      <td>1.764138</td>\n",
       "      <td>...</td>\n",
       "      <td>3.830930</td>\n",
       "      <td>2.073299</td>\n",
       "      <td>3.542829</td>\n",
       "      <td>-1.759274</td>\n",
       "      <td>1.122069</td>\n",
       "      <td>1.917379</td>\n",
       "      <td>-0.952119</td>\n",
       "      <td>3.276394</td>\n",
       "      <td>-1.626970</td>\n",
       "      <td>0.807910</td>\n",
       "    </tr>\n",
       "    <tr>\n",
       "      <th>318</th>\n",
       "      <td>0.355476</td>\n",
       "      <td>-0.852666</td>\n",
       "      <td>-0.149285</td>\n",
       "      <td>0.094578</td>\n",
       "      <td>0.565174</td>\n",
       "      <td>0.689294</td>\n",
       "      <td>0.898838</td>\n",
       "      <td>0.126363</td>\n",
       "      <td>-0.303103</td>\n",
       "      <td>-0.053067</td>\n",
       "      <td>...</td>\n",
       "      <td>0.008945</td>\n",
       "      <td>0.053453</td>\n",
       "      <td>0.065192</td>\n",
       "      <td>0.085010</td>\n",
       "      <td>0.319421</td>\n",
       "      <td>0.389571</td>\n",
       "      <td>0.508000</td>\n",
       "      <td>0.475126</td>\n",
       "      <td>0.619563</td>\n",
       "      <td>0.807910</td>\n",
       "    </tr>\n",
       "    <tr>\n",
       "      <th>319</th>\n",
       "      <td>0.982953</td>\n",
       "      <td>0.420861</td>\n",
       "      <td>0.735368</td>\n",
       "      <td>0.607541</td>\n",
       "      <td>-1.059278</td>\n",
       "      <td>0.705846</td>\n",
       "      <td>0.898838</td>\n",
       "      <td>0.966196</td>\n",
       "      <td>0.413686</td>\n",
       "      <td>0.722832</td>\n",
       "      <td>...</td>\n",
       "      <td>0.369106</td>\n",
       "      <td>-0.643555</td>\n",
       "      <td>0.428830</td>\n",
       "      <td>0.546081</td>\n",
       "      <td>1.122069</td>\n",
       "      <td>-0.747687</td>\n",
       "      <td>-0.952119</td>\n",
       "      <td>0.498218</td>\n",
       "      <td>0.634441</td>\n",
       "      <td>0.807910</td>\n",
       "    </tr>\n",
       "  </tbody>\n",
       "</table>\n",
       "<p>320 rows × 35 columns</p>\n",
       "</div>"
      ],
      "text/plain": [
       "     GRE Score  TOEFL Score  University Rating       SOP      LOR       CGPA  \\\n",
       "0    -0.272000    -0.056712          -1.033938 -0.931349  0.565174 -0.535566   \n",
       "1    -2.423346    -0.534284           0.735368 -1.444313 -1.059278 -1.876290   \n",
       "2     0.982953     0.102479           0.735368  1.120505  0.565174  0.970680   \n",
       "3     0.355476     1.057625           0.735368  0.607541  1.648141  0.871367   \n",
       "4    -0.272000    -0.534284           0.735368  1.633468  1.648141  0.705846   \n",
       "..         ...          ...                ...       ...       ...       ...   \n",
       "315  -0.720197    -0.534284          -1.033938 -1.444313 -1.059278 -0.552118   \n",
       "316   0.086558     0.739243          -0.149285  0.607541  0.023690  0.126521   \n",
       "317  -1.706231    -1.489430          -1.033938 -1.957276 -1.059278 -1.810081   \n",
       "318   0.355476    -0.852666          -0.149285  0.094578  0.565174  0.689294   \n",
       "319   0.982953     0.420861           0.735368  0.607541 -1.059278  0.705846   \n",
       "\n",
       "     Research  GRE Score^2  GRE Score TOEFL Score  \\\n",
       "0   -1.112548     0.073984               0.015426   \n",
       "1   -1.112548     5.872608               1.294756   \n",
       "2    0.898838     0.966196               0.100732   \n",
       "3   -1.112548     0.126363               0.375961   \n",
       "4   -1.112548     0.073984               0.145325   \n",
       "..        ...          ...                    ...   \n",
       "315 -1.112548     0.518684               0.384790   \n",
       "316 -1.112548     0.007492               0.063987   \n",
       "317  0.898838     2.911224               2.541311   \n",
       "318  0.898838     0.126363              -0.303103   \n",
       "319  0.898838     0.966196               0.413686   \n",
       "\n",
       "     GRE Score University Rating  ...     SOP^2  SOP LOR   SOP CGPA  \\\n",
       "0                       0.281231  ...  0.867412 -0.526374  0.498799   \n",
       "1                      -1.782051  ...  2.086039  1.529928  2.709949   \n",
       "2                       0.722832  ...  1.255531  0.633280  1.087652   \n",
       "3                       0.261406  ...  0.369106  1.001314  0.529391   \n",
       "4                      -0.200020  ...  2.668218  2.692186  1.152977   \n",
       "..                           ...  ...       ...       ...       ...   \n",
       "315                     0.744639  ...  2.086039  1.529928  0.797431   \n",
       "316                    -0.012922  ...  0.369106  0.014393  0.076866   \n",
       "317                     1.764138  ...  3.830930  2.073299  3.542829   \n",
       "318                    -0.053067  ...  0.008945  0.053453  0.065192   \n",
       "319                     0.722832  ...  0.369106 -0.643555  0.428830   \n",
       "\n",
       "     SOP Research    LOR ^2  LOR  CGPA  LOR  Research    CGPA^2  \\\n",
       "0        1.036170  0.319421  -0.302688      -0.628783  0.286830   \n",
       "1        1.606867  1.122069   1.987512       1.178497  3.520463   \n",
       "2        1.007152  0.319421   0.548603       0.508000  0.942220   \n",
       "3       -0.675918  2.716370   1.436137      -1.833636  0.759281   \n",
       "4       -1.817311  2.716370   1.163334      -1.833636  0.498218   \n",
       "..            ...       ...        ...            ...       ...   \n",
       "315      1.606867  1.122069   0.584846       1.178497  0.304834   \n",
       "316     -0.675918  0.000561   0.002997      -0.026356  0.016007   \n",
       "317     -1.759274  1.122069   1.917379      -0.952119  3.276394   \n",
       "318      0.085010  0.319421   0.389571       0.508000  0.475126   \n",
       "319      0.546081  1.122069  -0.747687      -0.952119  0.498218   \n",
       "\n",
       "     CGPA Research  Research^2  \n",
       "0         0.595842    1.237762  \n",
       "1         2.087462    1.237762  \n",
       "2         0.872484    0.807910  \n",
       "3        -0.969438    1.237762  \n",
       "4        -0.785287    1.237762  \n",
       "..             ...         ...  \n",
       "315       0.614257    1.237762  \n",
       "316      -0.140760    1.237762  \n",
       "317      -1.626970    0.807910  \n",
       "318       0.619563    0.807910  \n",
       "319       0.634441    0.807910  \n",
       "\n",
       "[320 rows x 35 columns]"
      ]
     },
     "execution_count": 53,
     "metadata": {},
     "output_type": "execute_result"
    }
   ],
   "source": [
    "poly=PolynomialFeatures(2)\n",
    "poly.fit(X_train_scaled)\n",
    "X_train_scaled_poly=poly.transform(X_train_scaled)\n",
    "colums=poly.get_feature_names(X_train.columns)\n",
    "X_train_scaled_poly=pd.DataFrame(X_train_scaled_poly,columns=colums)\n",
    "X_train_scaled_poly.drop(columns=\"1\",inplace=True)\n",
    "X_train_scaled_poly\n"
   ]
  },
  {
   "cell_type": "code",
   "execution_count": 54,
   "id": "5e159e4b",
   "metadata": {},
   "outputs": [
    {
     "data": {
      "text/plain": [
       "['1',\n",
       " 'GRE Score',\n",
       " 'TOEFL Score',\n",
       " 'University Rating',\n",
       " 'SOP',\n",
       " 'LOR ',\n",
       " 'CGPA',\n",
       " 'Research',\n",
       " 'GRE Score^2',\n",
       " 'GRE Score TOEFL Score',\n",
       " 'GRE Score University Rating',\n",
       " 'GRE Score SOP',\n",
       " 'GRE Score LOR ',\n",
       " 'GRE Score CGPA',\n",
       " 'GRE Score Research',\n",
       " 'TOEFL Score^2',\n",
       " 'TOEFL Score University Rating',\n",
       " 'TOEFL Score SOP',\n",
       " 'TOEFL Score LOR ',\n",
       " 'TOEFL Score CGPA',\n",
       " 'TOEFL Score Research',\n",
       " 'University Rating^2',\n",
       " 'University Rating SOP',\n",
       " 'University Rating LOR ',\n",
       " 'University Rating CGPA',\n",
       " 'University Rating Research',\n",
       " 'SOP^2',\n",
       " 'SOP LOR ',\n",
       " 'SOP CGPA',\n",
       " 'SOP Research',\n",
       " 'LOR ^2',\n",
       " 'LOR  CGPA',\n",
       " 'LOR  Research',\n",
       " 'CGPA^2',\n",
       " 'CGPA Research',\n",
       " 'Research^2']"
      ]
     },
     "execution_count": 54,
     "metadata": {},
     "output_type": "execute_result"
    }
   ],
   "source": [
    "colums"
   ]
  },
  {
   "cell_type": "code",
   "execution_count": 55,
   "id": "1a485f8f",
   "metadata": {},
   "outputs": [
    {
     "name": "stdout",
     "output_type": "stream",
     "text": [
      "                          feature        VIF\n",
      "0                       GRE Score   6.276398\n",
      "1                     TOEFL Score   5.106269\n",
      "2               University Rating   3.088521\n",
      "3                             SOP   3.357683\n",
      "4                            LOR    2.214591\n",
      "5                            CGPA   5.811859\n",
      "6                        Research   2.074576\n",
      "7                     GRE Score^2  16.530975\n",
      "8           GRE Score TOEFL Score  28.244652\n",
      "9     GRE Score University Rating  12.446667\n",
      "10                  GRE Score SOP  13.052705\n",
      "11                 GRE Score LOR   11.588143\n",
      "12                 GRE Score CGPA  28.678774\n",
      "13             GRE Score Research   5.714051\n",
      "14                  TOEFL Score^2   9.850274\n",
      "15  TOEFL Score University Rating   9.334005\n",
      "16                TOEFL Score SOP  12.635014\n",
      "17               TOEFL Score LOR    7.749190\n",
      "18               TOEFL Score CGPA  24.152508\n",
      "19           TOEFL Score Research   5.380679\n",
      "20            University Rating^2   4.554637\n",
      "21          University Rating SOP   8.482391\n",
      "22         University Rating LOR    7.131144\n",
      "23         University Rating CGPA  18.448287\n",
      "24     University Rating Research   3.937489\n",
      "25                          SOP^2   5.092908\n",
      "26                       SOP LOR    6.346655\n",
      "27                       SOP CGPA  15.545243\n",
      "28                   SOP Research   4.129561\n",
      "29                         LOR ^2   3.080024\n",
      "30                      LOR  CGPA  11.618309\n",
      "31                  LOR  Research   2.750601\n",
      "32                         CGPA^2  17.389928\n",
      "33                  CGPA Research   5.827068\n",
      "34                     Research^2   5.064886\n"
     ]
    }
   ],
   "source": [
    "X =X_train_scaled_poly\n",
    "\n",
    "vif_data = pd.DataFrame()\n",
    "vif_data[\"feature\"] = X.columns\n",
    "vif_data[\"VIF\"] = [variance_inflation_factor(X.values, i)\n",
    "                          for i in range(len(X.columns))]\n",
    "print(vif_data)"
   ]
  },
  {
   "cell_type": "code",
   "execution_count": 56,
   "id": "b36e1638",
   "metadata": {},
   "outputs": [
    {
     "data": {
      "text/html": [
       "<div>\n",
       "<style scoped>\n",
       "    .dataframe tbody tr th:only-of-type {\n",
       "        vertical-align: middle;\n",
       "    }\n",
       "\n",
       "    .dataframe tbody tr th {\n",
       "        vertical-align: top;\n",
       "    }\n",
       "\n",
       "    .dataframe thead th {\n",
       "        text-align: right;\n",
       "    }\n",
       "</style>\n",
       "<table border=\"1\" class=\"dataframe\">\n",
       "  <thead>\n",
       "    <tr style=\"text-align: right;\">\n",
       "      <th></th>\n",
       "      <th>University Rating</th>\n",
       "      <th>SOP</th>\n",
       "      <th>LOR</th>\n",
       "      <th>Research</th>\n",
       "      <th>University Rating^2</th>\n",
       "      <th>University Rating Research</th>\n",
       "      <th>SOP Research</th>\n",
       "      <th>LOR ^2</th>\n",
       "      <th>LOR  Research</th>\n",
       "    </tr>\n",
       "  </thead>\n",
       "  <tbody>\n",
       "    <tr>\n",
       "      <th>0</th>\n",
       "      <td>-1.033938</td>\n",
       "      <td>-0.931349</td>\n",
       "      <td>0.565174</td>\n",
       "      <td>-1.112548</td>\n",
       "      <td>1.069029</td>\n",
       "      <td>1.150306</td>\n",
       "      <td>1.036170</td>\n",
       "      <td>0.319421</td>\n",
       "      <td>-0.628783</td>\n",
       "    </tr>\n",
       "    <tr>\n",
       "      <th>1</th>\n",
       "      <td>0.735368</td>\n",
       "      <td>-1.444313</td>\n",
       "      <td>-1.059278</td>\n",
       "      <td>-1.112548</td>\n",
       "      <td>0.540766</td>\n",
       "      <td>-0.818132</td>\n",
       "      <td>1.606867</td>\n",
       "      <td>1.122069</td>\n",
       "      <td>1.178497</td>\n",
       "    </tr>\n",
       "    <tr>\n",
       "      <th>2</th>\n",
       "      <td>0.735368</td>\n",
       "      <td>1.120505</td>\n",
       "      <td>0.565174</td>\n",
       "      <td>0.898838</td>\n",
       "      <td>0.540766</td>\n",
       "      <td>0.660977</td>\n",
       "      <td>1.007152</td>\n",
       "      <td>0.319421</td>\n",
       "      <td>0.508000</td>\n",
       "    </tr>\n",
       "    <tr>\n",
       "      <th>3</th>\n",
       "      <td>0.735368</td>\n",
       "      <td>0.607541</td>\n",
       "      <td>1.648141</td>\n",
       "      <td>-1.112548</td>\n",
       "      <td>0.540766</td>\n",
       "      <td>-0.818132</td>\n",
       "      <td>-0.675918</td>\n",
       "      <td>2.716370</td>\n",
       "      <td>-1.833636</td>\n",
       "    </tr>\n",
       "    <tr>\n",
       "      <th>4</th>\n",
       "      <td>0.735368</td>\n",
       "      <td>1.633468</td>\n",
       "      <td>1.648141</td>\n",
       "      <td>-1.112548</td>\n",
       "      <td>0.540766</td>\n",
       "      <td>-0.818132</td>\n",
       "      <td>-1.817311</td>\n",
       "      <td>2.716370</td>\n",
       "      <td>-1.833636</td>\n",
       "    </tr>\n",
       "    <tr>\n",
       "      <th>...</th>\n",
       "      <td>...</td>\n",
       "      <td>...</td>\n",
       "      <td>...</td>\n",
       "      <td>...</td>\n",
       "      <td>...</td>\n",
       "      <td>...</td>\n",
       "      <td>...</td>\n",
       "      <td>...</td>\n",
       "      <td>...</td>\n",
       "    </tr>\n",
       "    <tr>\n",
       "      <th>315</th>\n",
       "      <td>-1.033938</td>\n",
       "      <td>-1.444313</td>\n",
       "      <td>-1.059278</td>\n",
       "      <td>-1.112548</td>\n",
       "      <td>1.069029</td>\n",
       "      <td>1.150306</td>\n",
       "      <td>1.606867</td>\n",
       "      <td>1.122069</td>\n",
       "      <td>1.178497</td>\n",
       "    </tr>\n",
       "    <tr>\n",
       "      <th>316</th>\n",
       "      <td>-0.149285</td>\n",
       "      <td>0.607541</td>\n",
       "      <td>0.023690</td>\n",
       "      <td>-1.112548</td>\n",
       "      <td>0.022286</td>\n",
       "      <td>0.166087</td>\n",
       "      <td>-0.675918</td>\n",
       "      <td>0.000561</td>\n",
       "      <td>-0.026356</td>\n",
       "    </tr>\n",
       "    <tr>\n",
       "      <th>317</th>\n",
       "      <td>-1.033938</td>\n",
       "      <td>-1.957276</td>\n",
       "      <td>-1.059278</td>\n",
       "      <td>0.898838</td>\n",
       "      <td>1.069029</td>\n",
       "      <td>-0.929343</td>\n",
       "      <td>-1.759274</td>\n",
       "      <td>1.122069</td>\n",
       "      <td>-0.952119</td>\n",
       "    </tr>\n",
       "    <tr>\n",
       "      <th>318</th>\n",
       "      <td>-0.149285</td>\n",
       "      <td>0.094578</td>\n",
       "      <td>0.565174</td>\n",
       "      <td>0.898838</td>\n",
       "      <td>0.022286</td>\n",
       "      <td>-0.134183</td>\n",
       "      <td>0.085010</td>\n",
       "      <td>0.319421</td>\n",
       "      <td>0.508000</td>\n",
       "    </tr>\n",
       "    <tr>\n",
       "      <th>319</th>\n",
       "      <td>0.735368</td>\n",
       "      <td>0.607541</td>\n",
       "      <td>-1.059278</td>\n",
       "      <td>0.898838</td>\n",
       "      <td>0.540766</td>\n",
       "      <td>0.660977</td>\n",
       "      <td>0.546081</td>\n",
       "      <td>1.122069</td>\n",
       "      <td>-0.952119</td>\n",
       "    </tr>\n",
       "  </tbody>\n",
       "</table>\n",
       "<p>320 rows × 9 columns</p>\n",
       "</div>"
      ],
      "text/plain": [
       "     University Rating       SOP      LOR   Research  University Rating^2  \\\n",
       "0            -1.033938 -0.931349  0.565174 -1.112548             1.069029   \n",
       "1             0.735368 -1.444313 -1.059278 -1.112548             0.540766   \n",
       "2             0.735368  1.120505  0.565174  0.898838             0.540766   \n",
       "3             0.735368  0.607541  1.648141 -1.112548             0.540766   \n",
       "4             0.735368  1.633468  1.648141 -1.112548             0.540766   \n",
       "..                 ...       ...       ...       ...                  ...   \n",
       "315          -1.033938 -1.444313 -1.059278 -1.112548             1.069029   \n",
       "316          -0.149285  0.607541  0.023690 -1.112548             0.022286   \n",
       "317          -1.033938 -1.957276 -1.059278  0.898838             1.069029   \n",
       "318          -0.149285  0.094578  0.565174  0.898838             0.022286   \n",
       "319           0.735368  0.607541 -1.059278  0.898838             0.540766   \n",
       "\n",
       "     University Rating Research  SOP Research    LOR ^2  LOR  Research  \n",
       "0                      1.150306      1.036170  0.319421      -0.628783  \n",
       "1                     -0.818132      1.606867  1.122069       1.178497  \n",
       "2                      0.660977      1.007152  0.319421       0.508000  \n",
       "3                     -0.818132     -0.675918  2.716370      -1.833636  \n",
       "4                     -0.818132     -1.817311  2.716370      -1.833636  \n",
       "..                          ...           ...       ...            ...  \n",
       "315                    1.150306      1.606867  1.122069       1.178497  \n",
       "316                    0.166087     -0.675918  0.000561      -0.026356  \n",
       "317                   -0.929343     -1.759274  1.122069      -0.952119  \n",
       "318                   -0.134183      0.085010  0.319421       0.508000  \n",
       "319                    0.660977      0.546081  1.122069      -0.952119  \n",
       "\n",
       "[320 rows x 9 columns]"
      ]
     },
     "execution_count": 56,
     "metadata": {},
     "output_type": "execute_result"
    }
   ],
   "source": [
    "final_col=vif_data[(vif_data['VIF']>1) & (vif_data['VIF']<5)]['feature']\n",
    "final_col=list(final_col)\n",
    "X_train_sc_poly_vif=X_train_scaled_poly[final_col]\n",
    "X_train_sc_poly_vif"
   ]
  },
  {
   "cell_type": "code",
   "execution_count": 57,
   "id": "2accd802",
   "metadata": {},
   "outputs": [
    {
     "name": "stdout",
     "output_type": "stream",
     "text": [
      "                      feature       VIF\n",
      "0           University Rating  2.314092\n",
      "1                         SOP  2.412025\n",
      "2                        LOR   1.794422\n",
      "3                    Research  1.357772\n",
      "4         University Rating^2  2.041999\n",
      "5  University Rating Research  2.633161\n",
      "6                SOP Research  2.357020\n",
      "7                      LOR ^2  1.656541\n",
      "8               LOR  Research  1.895484\n"
     ]
    }
   ],
   "source": [
    "X =X_train_sc_poly_vif\n",
    "\n",
    "vif_data = pd.DataFrame()\n",
    "vif_data[\"feature\"] = X.columns\n",
    "vif_data[\"VIF\"] = [variance_inflation_factor(X.values, i)\n",
    "                          for i in range(len(X.columns))]\n",
    "print(vif_data)\n",
    "final_col=vif_data[(vif_data['VIF']>1) & (vif_data['VIF']<5)]['feature']\n",
    "final_col=list(final_col)\n",
    "X_train_sc_poly_vif=X_train_scaled_poly[final_col]"
   ]
  },
  {
   "cell_type": "code",
   "execution_count": 58,
   "id": "698976e3",
   "metadata": {},
   "outputs": [
    {
     "data": {
      "text/html": [
       "<div>\n",
       "<style scoped>\n",
       "    .dataframe tbody tr th:only-of-type {\n",
       "        vertical-align: middle;\n",
       "    }\n",
       "\n",
       "    .dataframe tbody tr th {\n",
       "        vertical-align: top;\n",
       "    }\n",
       "\n",
       "    .dataframe thead th {\n",
       "        text-align: right;\n",
       "    }\n",
       "</style>\n",
       "<table border=\"1\" class=\"dataframe\">\n",
       "  <thead>\n",
       "    <tr style=\"text-align: right;\">\n",
       "      <th></th>\n",
       "      <th>University Rating</th>\n",
       "      <th>SOP</th>\n",
       "      <th>LOR</th>\n",
       "      <th>Research</th>\n",
       "      <th>University Rating^2</th>\n",
       "      <th>University Rating Research</th>\n",
       "      <th>SOP Research</th>\n",
       "      <th>LOR ^2</th>\n",
       "      <th>LOR  Research</th>\n",
       "    </tr>\n",
       "  </thead>\n",
       "  <tbody>\n",
       "    <tr>\n",
       "      <th>0</th>\n",
       "      <td>-1.033938</td>\n",
       "      <td>-0.931349</td>\n",
       "      <td>0.565174</td>\n",
       "      <td>-1.112548</td>\n",
       "      <td>1.069029</td>\n",
       "      <td>1.150306</td>\n",
       "      <td>1.036170</td>\n",
       "      <td>0.319421</td>\n",
       "      <td>-0.628783</td>\n",
       "    </tr>\n",
       "    <tr>\n",
       "      <th>1</th>\n",
       "      <td>0.735368</td>\n",
       "      <td>-1.444313</td>\n",
       "      <td>-1.059278</td>\n",
       "      <td>-1.112548</td>\n",
       "      <td>0.540766</td>\n",
       "      <td>-0.818132</td>\n",
       "      <td>1.606867</td>\n",
       "      <td>1.122069</td>\n",
       "      <td>1.178497</td>\n",
       "    </tr>\n",
       "    <tr>\n",
       "      <th>2</th>\n",
       "      <td>0.735368</td>\n",
       "      <td>1.120505</td>\n",
       "      <td>0.565174</td>\n",
       "      <td>0.898838</td>\n",
       "      <td>0.540766</td>\n",
       "      <td>0.660977</td>\n",
       "      <td>1.007152</td>\n",
       "      <td>0.319421</td>\n",
       "      <td>0.508000</td>\n",
       "    </tr>\n",
       "    <tr>\n",
       "      <th>3</th>\n",
       "      <td>0.735368</td>\n",
       "      <td>0.607541</td>\n",
       "      <td>1.648141</td>\n",
       "      <td>-1.112548</td>\n",
       "      <td>0.540766</td>\n",
       "      <td>-0.818132</td>\n",
       "      <td>-0.675918</td>\n",
       "      <td>2.716370</td>\n",
       "      <td>-1.833636</td>\n",
       "    </tr>\n",
       "    <tr>\n",
       "      <th>4</th>\n",
       "      <td>0.735368</td>\n",
       "      <td>1.633468</td>\n",
       "      <td>1.648141</td>\n",
       "      <td>-1.112548</td>\n",
       "      <td>0.540766</td>\n",
       "      <td>-0.818132</td>\n",
       "      <td>-1.817311</td>\n",
       "      <td>2.716370</td>\n",
       "      <td>-1.833636</td>\n",
       "    </tr>\n",
       "    <tr>\n",
       "      <th>...</th>\n",
       "      <td>...</td>\n",
       "      <td>...</td>\n",
       "      <td>...</td>\n",
       "      <td>...</td>\n",
       "      <td>...</td>\n",
       "      <td>...</td>\n",
       "      <td>...</td>\n",
       "      <td>...</td>\n",
       "      <td>...</td>\n",
       "    </tr>\n",
       "    <tr>\n",
       "      <th>315</th>\n",
       "      <td>-1.033938</td>\n",
       "      <td>-1.444313</td>\n",
       "      <td>-1.059278</td>\n",
       "      <td>-1.112548</td>\n",
       "      <td>1.069029</td>\n",
       "      <td>1.150306</td>\n",
       "      <td>1.606867</td>\n",
       "      <td>1.122069</td>\n",
       "      <td>1.178497</td>\n",
       "    </tr>\n",
       "    <tr>\n",
       "      <th>316</th>\n",
       "      <td>-0.149285</td>\n",
       "      <td>0.607541</td>\n",
       "      <td>0.023690</td>\n",
       "      <td>-1.112548</td>\n",
       "      <td>0.022286</td>\n",
       "      <td>0.166087</td>\n",
       "      <td>-0.675918</td>\n",
       "      <td>0.000561</td>\n",
       "      <td>-0.026356</td>\n",
       "    </tr>\n",
       "    <tr>\n",
       "      <th>317</th>\n",
       "      <td>-1.033938</td>\n",
       "      <td>-1.957276</td>\n",
       "      <td>-1.059278</td>\n",
       "      <td>0.898838</td>\n",
       "      <td>1.069029</td>\n",
       "      <td>-0.929343</td>\n",
       "      <td>-1.759274</td>\n",
       "      <td>1.122069</td>\n",
       "      <td>-0.952119</td>\n",
       "    </tr>\n",
       "    <tr>\n",
       "      <th>318</th>\n",
       "      <td>-0.149285</td>\n",
       "      <td>0.094578</td>\n",
       "      <td>0.565174</td>\n",
       "      <td>0.898838</td>\n",
       "      <td>0.022286</td>\n",
       "      <td>-0.134183</td>\n",
       "      <td>0.085010</td>\n",
       "      <td>0.319421</td>\n",
       "      <td>0.508000</td>\n",
       "    </tr>\n",
       "    <tr>\n",
       "      <th>319</th>\n",
       "      <td>0.735368</td>\n",
       "      <td>0.607541</td>\n",
       "      <td>-1.059278</td>\n",
       "      <td>0.898838</td>\n",
       "      <td>0.540766</td>\n",
       "      <td>0.660977</td>\n",
       "      <td>0.546081</td>\n",
       "      <td>1.122069</td>\n",
       "      <td>-0.952119</td>\n",
       "    </tr>\n",
       "  </tbody>\n",
       "</table>\n",
       "<p>320 rows × 9 columns</p>\n",
       "</div>"
      ],
      "text/plain": [
       "     University Rating       SOP      LOR   Research  University Rating^2  \\\n",
       "0            -1.033938 -0.931349  0.565174 -1.112548             1.069029   \n",
       "1             0.735368 -1.444313 -1.059278 -1.112548             0.540766   \n",
       "2             0.735368  1.120505  0.565174  0.898838             0.540766   \n",
       "3             0.735368  0.607541  1.648141 -1.112548             0.540766   \n",
       "4             0.735368  1.633468  1.648141 -1.112548             0.540766   \n",
       "..                 ...       ...       ...       ...                  ...   \n",
       "315          -1.033938 -1.444313 -1.059278 -1.112548             1.069029   \n",
       "316          -0.149285  0.607541  0.023690 -1.112548             0.022286   \n",
       "317          -1.033938 -1.957276 -1.059278  0.898838             1.069029   \n",
       "318          -0.149285  0.094578  0.565174  0.898838             0.022286   \n",
       "319           0.735368  0.607541 -1.059278  0.898838             0.540766   \n",
       "\n",
       "     University Rating Research  SOP Research    LOR ^2  LOR  Research  \n",
       "0                      1.150306      1.036170  0.319421      -0.628783  \n",
       "1                     -0.818132      1.606867  1.122069       1.178497  \n",
       "2                      0.660977      1.007152  0.319421       0.508000  \n",
       "3                     -0.818132     -0.675918  2.716370      -1.833636  \n",
       "4                     -0.818132     -1.817311  2.716370      -1.833636  \n",
       "..                          ...           ...       ...            ...  \n",
       "315                    1.150306      1.606867  1.122069       1.178497  \n",
       "316                    0.166087     -0.675918  0.000561      -0.026356  \n",
       "317                   -0.929343     -1.759274  1.122069      -0.952119  \n",
       "318                   -0.134183      0.085010  0.319421       0.508000  \n",
       "319                    0.660977      0.546081  1.122069      -0.952119  \n",
       "\n",
       "[320 rows x 9 columns]"
      ]
     },
     "execution_count": 58,
     "metadata": {},
     "output_type": "execute_result"
    }
   ],
   "source": [
    "X_train_sc_poly_vif"
   ]
  },
  {
   "cell_type": "code",
   "execution_count": 59,
   "id": "f1ec7cb2",
   "metadata": {},
   "outputs": [
    {
     "name": "stderr",
     "output_type": "stream",
     "text": [
      "C:\\Users\\Abhilash\\anaconda3\\lib\\site-packages\\statsmodels\\tsa\\tsatools.py:142: FutureWarning: In a future version of pandas all arguments of concat except for the argument 'objs' will be keyword-only.\n",
      "  x = pd.concat(x[::order], 1)\n"
     ]
    }
   ],
   "source": [
    "X =X_train_sc_poly_vif\n",
    "y =y_train\n",
    "X = sm.add_constant(X)\n",
    "model1 = sm.OLS(y.values, X)\n",
    "results1 = model1.fit()"
   ]
  },
  {
   "cell_type": "code",
   "execution_count": 60,
   "id": "564c1d48",
   "metadata": {},
   "outputs": [
    {
     "name": "stdout",
     "output_type": "stream",
     "text": [
      "                            OLS Regression Results                            \n",
      "==============================================================================\n",
      "Dep. Variable:                      y   R-squared:                       0.679\n",
      "Model:                            OLS   Adj. R-squared:                  0.670\n",
      "Method:                 Least Squares   F-statistic:                     72.96\n",
      "Date:                Wed, 14 Jun 2023   Prob (F-statistic):           3.05e-71\n",
      "Time:                        22:51:44   Log-Likelihood:                 348.73\n",
      "No. Observations:                 320   AIC:                            -677.5\n",
      "Df Residuals:                     310   BIC:                            -639.8\n",
      "Df Model:                           9                                         \n",
      "Covariance Type:            nonrobust                                         \n",
      "==============================================================================================\n",
      "                                 coef    std err          t      P>|t|      [0.025      0.975]\n",
      "----------------------------------------------------------------------------------------------\n",
      "const                          0.7164      0.007     99.174      0.000       0.702       0.731\n",
      "University Rating              0.0276      0.007      3.904      0.000       0.014       0.041\n",
      "SOP                            0.0427      0.007      5.933      0.000       0.029       0.057\n",
      "LOR                            0.0342      0.006      5.521      0.000       0.022       0.046\n",
      "Research                       0.0416      0.005      7.724      0.000       0.031       0.052\n",
      "University Rating^2            0.0084      0.005      1.695      0.091      -0.001       0.018\n",
      "University Rating Research -9.952e-05      0.008     -0.013      0.989      -0.015       0.015\n",
      "SOP Research                   0.0256      0.007      3.630      0.000       0.012       0.040\n",
      "LOR ^2                        -0.0040      0.005     -0.872      0.384      -0.013       0.005\n",
      "LOR  Research                 -0.0179      0.006     -2.802      0.005      -0.030      -0.005\n",
      "==============================================================================\n",
      "Omnibus:                       32.531   Durbin-Watson:                   2.155\n",
      "Prob(Omnibus):                  0.000   Jarque-Bera (JB):               41.362\n",
      "Skew:                          -0.750   Prob(JB):                     1.04e-09\n",
      "Kurtosis:                       3.923   Cond. No.                         4.83\n",
      "==============================================================================\n",
      "\n",
      "Notes:\n",
      "[1] Standard Errors assume that the covariance matrix of the errors is correctly specified.\n"
     ]
    }
   ],
   "source": [
    "print(results1.summary())"
   ]
  },
  {
   "cell_type": "markdown",
   "id": "ec7a1a10",
   "metadata": {},
   "source": [
    "### our training r2 score for this ploynimal(2) feature is 0.75 which is much low the our single degree feature 0.83 , So we will go without polynomial feature"
   ]
  },
  {
   "cell_type": "code",
   "execution_count": 61,
   "id": "8f0083f5",
   "metadata": {},
   "outputs": [],
   "source": [
    "##Lets train our whole data "
   ]
  },
  {
   "cell_type": "code",
   "execution_count": null,
   "id": "6f2b2c92",
   "metadata": {},
   "outputs": [],
   "source": []
  },
  {
   "cell_type": "code",
   "execution_count": 62,
   "id": "8355095b",
   "metadata": {},
   "outputs": [
    {
     "data": {
      "text/html": [
       "<div>\n",
       "<style scoped>\n",
       "    .dataframe tbody tr th:only-of-type {\n",
       "        vertical-align: middle;\n",
       "    }\n",
       "\n",
       "    .dataframe tbody tr th {\n",
       "        vertical-align: top;\n",
       "    }\n",
       "\n",
       "    .dataframe thead th {\n",
       "        text-align: right;\n",
       "    }\n",
       "</style>\n",
       "<table border=\"1\" class=\"dataframe\">\n",
       "  <thead>\n",
       "    <tr style=\"text-align: right;\">\n",
       "      <th></th>\n",
       "      <th>GRE Score</th>\n",
       "      <th>TOEFL Score</th>\n",
       "      <th>University Rating</th>\n",
       "      <th>SOP</th>\n",
       "      <th>LOR</th>\n",
       "      <th>CGPA</th>\n",
       "      <th>Research</th>\n",
       "    </tr>\n",
       "  </thead>\n",
       "  <tbody>\n",
       "    <tr>\n",
       "      <th>0</th>\n",
       "      <td>321</td>\n",
       "      <td>111</td>\n",
       "      <td>3</td>\n",
       "      <td>3.5</td>\n",
       "      <td>4.0</td>\n",
       "      <td>8.83</td>\n",
       "      <td>1</td>\n",
       "    </tr>\n",
       "    <tr>\n",
       "      <th>1</th>\n",
       "      <td>316</td>\n",
       "      <td>111</td>\n",
       "      <td>4</td>\n",
       "      <td>4.0</td>\n",
       "      <td>5.0</td>\n",
       "      <td>8.54</td>\n",
       "      <td>0</td>\n",
       "    </tr>\n",
       "    <tr>\n",
       "      <th>2</th>\n",
       "      <td>303</td>\n",
       "      <td>102</td>\n",
       "      <td>3</td>\n",
       "      <td>3.5</td>\n",
       "      <td>3.0</td>\n",
       "      <td>8.50</td>\n",
       "      <td>0</td>\n",
       "    </tr>\n",
       "    <tr>\n",
       "      <th>3</th>\n",
       "      <td>314</td>\n",
       "      <td>107</td>\n",
       "      <td>2</td>\n",
       "      <td>2.5</td>\n",
       "      <td>4.0</td>\n",
       "      <td>8.27</td>\n",
       "      <td>0</td>\n",
       "    </tr>\n",
       "    <tr>\n",
       "      <th>4</th>\n",
       "      <td>308</td>\n",
       "      <td>106</td>\n",
       "      <td>3</td>\n",
       "      <td>3.5</td>\n",
       "      <td>2.5</td>\n",
       "      <td>8.21</td>\n",
       "      <td>1</td>\n",
       "    </tr>\n",
       "    <tr>\n",
       "      <th>...</th>\n",
       "      <td>...</td>\n",
       "      <td>...</td>\n",
       "      <td>...</td>\n",
       "      <td>...</td>\n",
       "      <td>...</td>\n",
       "      <td>...</td>\n",
       "      <td>...</td>\n",
       "    </tr>\n",
       "    <tr>\n",
       "      <th>395</th>\n",
       "      <td>329</td>\n",
       "      <td>111</td>\n",
       "      <td>4</td>\n",
       "      <td>4.5</td>\n",
       "      <td>4.5</td>\n",
       "      <td>9.18</td>\n",
       "      <td>1</td>\n",
       "    </tr>\n",
       "    <tr>\n",
       "      <th>396</th>\n",
       "      <td>306</td>\n",
       "      <td>105</td>\n",
       "      <td>2</td>\n",
       "      <td>2.5</td>\n",
       "      <td>3.0</td>\n",
       "      <td>8.22</td>\n",
       "      <td>1</td>\n",
       "    </tr>\n",
       "    <tr>\n",
       "      <th>397</th>\n",
       "      <td>302</td>\n",
       "      <td>99</td>\n",
       "      <td>1</td>\n",
       "      <td>2.0</td>\n",
       "      <td>2.0</td>\n",
       "      <td>7.25</td>\n",
       "      <td>0</td>\n",
       "    </tr>\n",
       "    <tr>\n",
       "      <th>398</th>\n",
       "      <td>309</td>\n",
       "      <td>105</td>\n",
       "      <td>2</td>\n",
       "      <td>2.5</td>\n",
       "      <td>4.0</td>\n",
       "      <td>7.68</td>\n",
       "      <td>0</td>\n",
       "    </tr>\n",
       "    <tr>\n",
       "      <th>399</th>\n",
       "      <td>314</td>\n",
       "      <td>106</td>\n",
       "      <td>2</td>\n",
       "      <td>4.0</td>\n",
       "      <td>3.5</td>\n",
       "      <td>8.25</td>\n",
       "      <td>0</td>\n",
       "    </tr>\n",
       "  </tbody>\n",
       "</table>\n",
       "<p>400 rows × 7 columns</p>\n",
       "</div>"
      ],
      "text/plain": [
       "     GRE Score  TOEFL Score  University Rating  SOP  LOR   CGPA  Research\n",
       "0          321          111                  3  3.5   4.0  8.83         1\n",
       "1          316          111                  4  4.0   5.0  8.54         0\n",
       "2          303          102                  3  3.5   3.0  8.50         0\n",
       "3          314          107                  2  2.5   4.0  8.27         0\n",
       "4          308          106                  3  3.5   2.5  8.21         1\n",
       "..         ...          ...                ...  ...   ...   ...       ...\n",
       "395        329          111                  4  4.5   4.5  9.18         1\n",
       "396        306          105                  2  2.5   3.0  8.22         1\n",
       "397        302           99                  1  2.0   2.0  7.25         0\n",
       "398        309          105                  2  2.5   4.0  7.68         0\n",
       "399        314          106                  2  4.0   3.5  8.25         0\n",
       "\n",
       "[400 rows x 7 columns]"
      ]
     },
     "execution_count": 62,
     "metadata": {},
     "output_type": "execute_result"
    }
   ],
   "source": [
    "X1"
   ]
  },
  {
   "cell_type": "code",
   "execution_count": 63,
   "id": "b98adb65",
   "metadata": {},
   "outputs": [
    {
     "data": {
      "text/plain": [
       "0      0.77\n",
       "1      0.71\n",
       "2      0.62\n",
       "3      0.72\n",
       "4      0.75\n",
       "       ... \n",
       "395    0.87\n",
       "396    0.72\n",
       "397    0.57\n",
       "398    0.55\n",
       "399    0.62\n",
       "Name: Chance of Admit, Length: 400, dtype: float64"
      ]
     },
     "execution_count": 63,
     "metadata": {},
     "output_type": "execute_result"
    }
   ],
   "source": [
    "Y1"
   ]
  },
  {
   "cell_type": "code",
   "execution_count": 64,
   "id": "c3c81545",
   "metadata": {},
   "outputs": [
    {
     "data": {
      "text/html": [
       "<div>\n",
       "<style scoped>\n",
       "    .dataframe tbody tr th:only-of-type {\n",
       "        vertical-align: middle;\n",
       "    }\n",
       "\n",
       "    .dataframe tbody tr th {\n",
       "        vertical-align: top;\n",
       "    }\n",
       "\n",
       "    .dataframe thead th {\n",
       "        text-align: right;\n",
       "    }\n",
       "</style>\n",
       "<table border=\"1\" class=\"dataframe\">\n",
       "  <thead>\n",
       "    <tr style=\"text-align: right;\">\n",
       "      <th></th>\n",
       "      <th>GRE Score</th>\n",
       "      <th>TOEFL Score</th>\n",
       "      <th>University Rating</th>\n",
       "      <th>SOP</th>\n",
       "      <th>LOR</th>\n",
       "      <th>CGPA</th>\n",
       "      <th>Research</th>\n",
       "    </tr>\n",
       "  </thead>\n",
       "  <tbody>\n",
       "    <tr>\n",
       "      <th>0</th>\n",
       "      <td>0.389986</td>\n",
       "      <td>0.602418</td>\n",
       "      <td>-0.098298</td>\n",
       "      <td>0.126796</td>\n",
       "      <td>0.564984</td>\n",
       "      <td>0.415018</td>\n",
       "      <td>0.895434</td>\n",
       "    </tr>\n",
       "    <tr>\n",
       "      <th>1</th>\n",
       "      <td>-0.066405</td>\n",
       "      <td>0.602418</td>\n",
       "      <td>0.775459</td>\n",
       "      <td>0.633979</td>\n",
       "      <td>1.651491</td>\n",
       "      <td>-0.067852</td>\n",
       "      <td>-1.116777</td>\n",
       "    </tr>\n",
       "    <tr>\n",
       "      <th>2</th>\n",
       "      <td>-1.253022</td>\n",
       "      <td>-0.876917</td>\n",
       "      <td>-0.098298</td>\n",
       "      <td>0.126796</td>\n",
       "      <td>-0.521524</td>\n",
       "      <td>-0.134454</td>\n",
       "      <td>-1.116777</td>\n",
       "    </tr>\n",
       "    <tr>\n",
       "      <th>3</th>\n",
       "      <td>-0.248961</td>\n",
       "      <td>-0.055064</td>\n",
       "      <td>-0.972054</td>\n",
       "      <td>-0.887570</td>\n",
       "      <td>0.564984</td>\n",
       "      <td>-0.517420</td>\n",
       "      <td>-1.116777</td>\n",
       "    </tr>\n",
       "    <tr>\n",
       "      <th>4</th>\n",
       "      <td>-0.796631</td>\n",
       "      <td>-0.219435</td>\n",
       "      <td>-0.098298</td>\n",
       "      <td>0.126796</td>\n",
       "      <td>-1.064777</td>\n",
       "      <td>-0.617324</td>\n",
       "      <td>0.895434</td>\n",
       "    </tr>\n",
       "    <tr>\n",
       "      <th>...</th>\n",
       "      <td>...</td>\n",
       "      <td>...</td>\n",
       "      <td>...</td>\n",
       "      <td>...</td>\n",
       "      <td>...</td>\n",
       "      <td>...</td>\n",
       "      <td>...</td>\n",
       "    </tr>\n",
       "    <tr>\n",
       "      <th>395</th>\n",
       "      <td>1.120212</td>\n",
       "      <td>0.602418</td>\n",
       "      <td>0.775459</td>\n",
       "      <td>1.141162</td>\n",
       "      <td>1.108237</td>\n",
       "      <td>0.997792</td>\n",
       "      <td>0.895434</td>\n",
       "    </tr>\n",
       "    <tr>\n",
       "      <th>396</th>\n",
       "      <td>-0.979187</td>\n",
       "      <td>-0.383805</td>\n",
       "      <td>-0.972054</td>\n",
       "      <td>-0.887570</td>\n",
       "      <td>-0.521524</td>\n",
       "      <td>-0.600673</td>\n",
       "      <td>0.895434</td>\n",
       "    </tr>\n",
       "    <tr>\n",
       "      <th>397</th>\n",
       "      <td>-1.344300</td>\n",
       "      <td>-1.370029</td>\n",
       "      <td>-1.845810</td>\n",
       "      <td>-1.394754</td>\n",
       "      <td>-1.608031</td>\n",
       "      <td>-2.215790</td>\n",
       "      <td>-1.116777</td>\n",
       "    </tr>\n",
       "    <tr>\n",
       "      <th>398</th>\n",
       "      <td>-0.705353</td>\n",
       "      <td>-0.383805</td>\n",
       "      <td>-0.972054</td>\n",
       "      <td>-0.887570</td>\n",
       "      <td>0.564984</td>\n",
       "      <td>-1.499810</td>\n",
       "      <td>-1.116777</td>\n",
       "    </tr>\n",
       "    <tr>\n",
       "      <th>399</th>\n",
       "      <td>-0.248961</td>\n",
       "      <td>-0.219435</td>\n",
       "      <td>-0.972054</td>\n",
       "      <td>0.633979</td>\n",
       "      <td>0.021730</td>\n",
       "      <td>-0.550721</td>\n",
       "      <td>-1.116777</td>\n",
       "    </tr>\n",
       "  </tbody>\n",
       "</table>\n",
       "<p>400 rows × 7 columns</p>\n",
       "</div>"
      ],
      "text/plain": [
       "     GRE Score  TOEFL Score  University Rating       SOP      LOR       CGPA  \\\n",
       "0     0.389986     0.602418          -0.098298  0.126796  0.564984  0.415018   \n",
       "1    -0.066405     0.602418           0.775459  0.633979  1.651491 -0.067852   \n",
       "2    -1.253022    -0.876917          -0.098298  0.126796 -0.521524 -0.134454   \n",
       "3    -0.248961    -0.055064          -0.972054 -0.887570  0.564984 -0.517420   \n",
       "4    -0.796631    -0.219435          -0.098298  0.126796 -1.064777 -0.617324   \n",
       "..         ...          ...                ...       ...       ...       ...   \n",
       "395   1.120212     0.602418           0.775459  1.141162  1.108237  0.997792   \n",
       "396  -0.979187    -0.383805          -0.972054 -0.887570 -0.521524 -0.600673   \n",
       "397  -1.344300    -1.370029          -1.845810 -1.394754 -1.608031 -2.215790   \n",
       "398  -0.705353    -0.383805          -0.972054 -0.887570  0.564984 -1.499810   \n",
       "399  -0.248961    -0.219435          -0.972054  0.633979  0.021730 -0.550721   \n",
       "\n",
       "     Research  \n",
       "0    0.895434  \n",
       "1   -1.116777  \n",
       "2   -1.116777  \n",
       "3   -1.116777  \n",
       "4    0.895434  \n",
       "..        ...  \n",
       "395  0.895434  \n",
       "396  0.895434  \n",
       "397 -1.116777  \n",
       "398 -1.116777  \n",
       "399 -1.116777  \n",
       "\n",
       "[400 rows x 7 columns]"
      ]
     },
     "execution_count": 64,
     "metadata": {},
     "output_type": "execute_result"
    }
   ],
   "source": [
    "scaler = StandardScaler()\n",
    "scaler.fit(X1)\n",
    "X_train_scaled=scaler.transform(X1)\n",
    "X_train=pd.DataFrame(X_train_scaled,columns=X1.columns)\n",
    "X_train"
   ]
  },
  {
   "cell_type": "code",
   "execution_count": 65,
   "id": "8e58b38c",
   "metadata": {},
   "outputs": [
    {
     "name": "stderr",
     "output_type": "stream",
     "text": [
      "C:\\Users\\Abhilash\\anaconda3\\lib\\site-packages\\statsmodels\\tsa\\tsatools.py:142: FutureWarning: In a future version of pandas all arguments of concat except for the argument 'objs' will be keyword-only.\n",
      "  x = pd.concat(x[::order], 1)\n"
     ]
    }
   ],
   "source": [
    "X =X_train\n",
    "y =Y1\n",
    "X = sm.add_constant(X)\n",
    "model = sm.OLS(y, X)\n",
    "results = model.fit()"
   ]
  },
  {
   "cell_type": "code",
   "execution_count": 66,
   "id": "734eaaad",
   "metadata": {},
   "outputs": [
    {
     "name": "stdout",
     "output_type": "stream",
     "text": [
      "                            OLS Regression Results                            \n",
      "==============================================================================\n",
      "Dep. Variable:        Chance of Admit   R-squared:                       0.821\n",
      "Model:                            OLS   Adj. R-squared:                  0.818\n",
      "Method:                 Least Squares   F-statistic:                     257.0\n",
      "Date:                Wed, 14 Jun 2023   Prob (F-statistic):          3.41e-142\n",
      "Time:                        22:51:45   Log-Likelihood:                 561.91\n",
      "No. Observations:                 400   AIC:                            -1108.\n",
      "Df Residuals:                     392   BIC:                            -1076.\n",
      "Df Model:                           7                                         \n",
      "Covariance Type:            nonrobust                                         \n",
      "=====================================================================================\n",
      "                        coef    std err          t      P>|t|      [0.025      0.975]\n",
      "-------------------------------------------------------------------------------------\n",
      "const                 0.7242      0.003    241.441      0.000       0.718       0.730\n",
      "GRE Score             0.0267      0.006      4.196      0.000       0.014       0.039\n",
      "TOEFL Score           0.0182      0.006      3.174      0.002       0.007       0.030\n",
      "University Rating     0.0029      0.005      0.611      0.541      -0.007       0.012\n",
      "SOP                   0.0018      0.005      0.357      0.721      -0.008       0.012\n",
      "LOR                   0.0159      0.004      3.761      0.000       0.008       0.024\n",
      "CGPA                  0.0676      0.006     10.444      0.000       0.055       0.080\n",
      "Research              0.0119      0.004      3.231      0.001       0.005       0.019\n",
      "==============================================================================\n",
      "Omnibus:                       86.232   Durbin-Watson:                   2.050\n",
      "Prob(Omnibus):                  0.000   Jarque-Bera (JB):              190.099\n",
      "Skew:                          -1.107   Prob(JB):                     5.25e-42\n",
      "Kurtosis:                       5.551   Cond. No.                         5.65\n",
      "==============================================================================\n",
      "\n",
      "Notes:\n",
      "[1] Standard Errors assume that the covariance matrix of the errors is correctly specified.\n"
     ]
    }
   ],
   "source": [
    "print(results.summary())"
   ]
  },
  {
   "cell_type": "code",
   "execution_count": null,
   "id": "ca92555d",
   "metadata": {},
   "outputs": [],
   "source": []
  },
  {
   "cell_type": "code",
   "execution_count": null,
   "id": "2d329d3f",
   "metadata": {},
   "outputs": [],
   "source": []
  },
  {
   "cell_type": "code",
   "execution_count": null,
   "id": "4c28f95e",
   "metadata": {},
   "outputs": [],
   "source": []
  },
  {
   "cell_type": "markdown",
   "id": "e4ed6f86",
   "metadata": {},
   "source": [
    "### Final Testing"
   ]
  },
  {
   "cell_type": "code",
   "execution_count": 67,
   "id": "161345b2",
   "metadata": {},
   "outputs": [
    {
     "data": {
      "text/html": [
       "<div>\n",
       "<style scoped>\n",
       "    .dataframe tbody tr th:only-of-type {\n",
       "        vertical-align: middle;\n",
       "    }\n",
       "\n",
       "    .dataframe tbody tr th {\n",
       "        vertical-align: top;\n",
       "    }\n",
       "\n",
       "    .dataframe thead th {\n",
       "        text-align: right;\n",
       "    }\n",
       "</style>\n",
       "<table border=\"1\" class=\"dataframe\">\n",
       "  <thead>\n",
       "    <tr style=\"text-align: right;\">\n",
       "      <th></th>\n",
       "      <th>GRE Score</th>\n",
       "      <th>TOEFL Score</th>\n",
       "      <th>University Rating</th>\n",
       "      <th>SOP</th>\n",
       "      <th>LOR</th>\n",
       "      <th>CGPA</th>\n",
       "      <th>Research</th>\n",
       "    </tr>\n",
       "  </thead>\n",
       "  <tbody>\n",
       "    <tr>\n",
       "      <th>361</th>\n",
       "      <td>334</td>\n",
       "      <td>116</td>\n",
       "      <td>4</td>\n",
       "      <td>4.0</td>\n",
       "      <td>3.5</td>\n",
       "      <td>9.54</td>\n",
       "      <td>1</td>\n",
       "    </tr>\n",
       "    <tr>\n",
       "      <th>73</th>\n",
       "      <td>314</td>\n",
       "      <td>108</td>\n",
       "      <td>4</td>\n",
       "      <td>4.5</td>\n",
       "      <td>4.0</td>\n",
       "      <td>9.04</td>\n",
       "      <td>1</td>\n",
       "    </tr>\n",
       "    <tr>\n",
       "      <th>374</th>\n",
       "      <td>315</td>\n",
       "      <td>105</td>\n",
       "      <td>2</td>\n",
       "      <td>2.0</td>\n",
       "      <td>2.5</td>\n",
       "      <td>7.65</td>\n",
       "      <td>0</td>\n",
       "    </tr>\n",
       "    <tr>\n",
       "      <th>155</th>\n",
       "      <td>312</td>\n",
       "      <td>109</td>\n",
       "      <td>3</td>\n",
       "      <td>3.0</td>\n",
       "      <td>3.0</td>\n",
       "      <td>8.69</td>\n",
       "      <td>0</td>\n",
       "    </tr>\n",
       "    <tr>\n",
       "      <th>104</th>\n",
       "      <td>326</td>\n",
       "      <td>112</td>\n",
       "      <td>3</td>\n",
       "      <td>3.5</td>\n",
       "      <td>3.0</td>\n",
       "      <td>9.05</td>\n",
       "      <td>1</td>\n",
       "    </tr>\n",
       "    <tr>\n",
       "      <th>...</th>\n",
       "      <td>...</td>\n",
       "      <td>...</td>\n",
       "      <td>...</td>\n",
       "      <td>...</td>\n",
       "      <td>...</td>\n",
       "      <td>...</td>\n",
       "      <td>...</td>\n",
       "    </tr>\n",
       "    <tr>\n",
       "      <th>347</th>\n",
       "      <td>299</td>\n",
       "      <td>94</td>\n",
       "      <td>1</td>\n",
       "      <td>1.0</td>\n",
       "      <td>1.0</td>\n",
       "      <td>7.34</td>\n",
       "      <td>0</td>\n",
       "    </tr>\n",
       "    <tr>\n",
       "      <th>86</th>\n",
       "      <td>315</td>\n",
       "      <td>106</td>\n",
       "      <td>3</td>\n",
       "      <td>4.5</td>\n",
       "      <td>3.5</td>\n",
       "      <td>8.42</td>\n",
       "      <td>0</td>\n",
       "    </tr>\n",
       "    <tr>\n",
       "      <th>75</th>\n",
       "      <td>329</td>\n",
       "      <td>114</td>\n",
       "      <td>2</td>\n",
       "      <td>2.0</td>\n",
       "      <td>4.0</td>\n",
       "      <td>8.56</td>\n",
       "      <td>1</td>\n",
       "    </tr>\n",
       "    <tr>\n",
       "      <th>438</th>\n",
       "      <td>318</td>\n",
       "      <td>110</td>\n",
       "      <td>1</td>\n",
       "      <td>2.5</td>\n",
       "      <td>3.5</td>\n",
       "      <td>8.54</td>\n",
       "      <td>1</td>\n",
       "    </tr>\n",
       "    <tr>\n",
       "      <th>15</th>\n",
       "      <td>314</td>\n",
       "      <td>105</td>\n",
       "      <td>3</td>\n",
       "      <td>3.5</td>\n",
       "      <td>2.5</td>\n",
       "      <td>8.30</td>\n",
       "      <td>0</td>\n",
       "    </tr>\n",
       "  </tbody>\n",
       "</table>\n",
       "<p>100 rows × 7 columns</p>\n",
       "</div>"
      ],
      "text/plain": [
       "     GRE Score  TOEFL Score  University Rating  SOP  LOR   CGPA  Research\n",
       "361        334          116                  4  4.0   3.5  9.54         1\n",
       "73         314          108                  4  4.5   4.0  9.04         1\n",
       "374        315          105                  2  2.0   2.5  7.65         0\n",
       "155        312          109                  3  3.0   3.0  8.69         0\n",
       "104        326          112                  3  3.5   3.0  9.05         1\n",
       "..         ...          ...                ...  ...   ...   ...       ...\n",
       "347        299           94                  1  1.0   1.0  7.34         0\n",
       "86         315          106                  3  4.5   3.5  8.42         0\n",
       "75         329          114                  2  2.0   4.0  8.56         1\n",
       "438        318          110                  1  2.5   3.5  8.54         1\n",
       "15         314          105                  3  3.5   2.5  8.30         0\n",
       "\n",
       "[100 rows x 7 columns]"
      ]
     },
     "execution_count": 67,
     "metadata": {},
     "output_type": "execute_result"
    }
   ],
   "source": [
    "X_test"
   ]
  },
  {
   "cell_type": "code",
   "execution_count": 68,
   "id": "45775feb",
   "metadata": {},
   "outputs": [
    {
     "data": {
      "text/plain": [
       "361    0.93\n",
       "73     0.84\n",
       "374    0.39\n",
       "155    0.77\n",
       "104    0.74\n",
       "       ... \n",
       "347    0.42\n",
       "86     0.72\n",
       "75     0.72\n",
       "438    0.67\n",
       "15     0.54\n",
       "Name: Chance of Admit , Length: 100, dtype: float64"
      ]
     },
     "execution_count": 68,
     "metadata": {},
     "output_type": "execute_result"
    }
   ],
   "source": [
    "y_test"
   ]
  },
  {
   "cell_type": "code",
   "execution_count": 69,
   "id": "1f10223f",
   "metadata": {},
   "outputs": [],
   "source": [
    "X_test=scaler.transform(X_test)\n",
    "X_test = sm.add_constant(X_test)\n",
    "y_predicted_test=results.predict(X_test)\n"
   ]
  },
  {
   "cell_type": "code",
   "execution_count": 70,
   "id": "658ac417",
   "metadata": {},
   "outputs": [
    {
     "data": {
      "text/plain": [
       "array([0.91457473, 0.79518127, 0.57265986, 0.70736968, 0.81588282,\n",
       "       0.86206561, 0.47459746, 0.64850923, 0.82378728, 0.80741498,\n",
       "       0.72193204, 0.72589118, 0.65632227, 0.93677168, 0.8241518 ,\n",
       "       0.50979177, 0.83931942, 0.59727295, 0.53339576, 0.57155958,\n",
       "       0.66548168, 0.55305833, 0.72232308, 0.79506004, 0.78027648,\n",
       "       0.60248654, 0.94840363, 0.84741471, 0.62777011, 0.74343096,\n",
       "       0.55533035, 0.73004034, 0.54474225, 0.86116288, 0.65713016,\n",
       "       0.7371816 , 0.55423839, 0.95718977, 0.64364267, 0.71057279,\n",
       "       0.97036982, 0.57495143, 0.67075391, 0.85830422, 0.94112903,\n",
       "       0.57793762, 0.9583926 , 0.83902765, 0.79591651, 0.92570648,\n",
       "       0.88805969, 0.56366238, 0.70359711, 0.52658929, 0.9536427 ,\n",
       "       0.59746814, 0.95600396, 0.73916386, 0.66256982, 0.5012903 ,\n",
       "       0.62950759, 0.68031188, 0.59896721, 0.59203806, 0.44085868,\n",
       "       0.58866369, 0.8667547 , 0.89783006, 0.65831807, 0.70667392,\n",
       "       0.6176818 , 0.78587721, 0.69152566, 0.56271019, 0.5542953 ,\n",
       "       0.65084583, 0.84627224, 0.86373777, 0.53729574, 0.63142139,\n",
       "       0.76958036, 0.84812916, 0.61693172, 0.8471071 , 0.73411583,\n",
       "       0.6668525 , 0.60444455, 0.73875671, 0.78899999, 0.66320147,\n",
       "       0.7428225 , 0.90802002, 0.91576583, 0.65056489, 0.77694407,\n",
       "       0.43563138, 0.68664259, 0.78598826, 0.73469446, 0.64865736])"
      ]
     },
     "execution_count": 70,
     "metadata": {},
     "output_type": "execute_result"
    }
   ],
   "source": [
    "y_predicted_test"
   ]
  },
  {
   "cell_type": "code",
   "execution_count": 71,
   "id": "505c9077",
   "metadata": {},
   "outputs": [
    {
     "data": {
      "text/plain": [
       "0.0037046553987884114"
      ]
     },
     "execution_count": 71,
     "metadata": {},
     "output_type": "execute_result"
    }
   ],
   "source": [
    "#MSE for TEST data\n",
    "mean_squared_error(y_test,y_predicted_test)"
   ]
  },
  {
   "cell_type": "code",
   "execution_count": 72,
   "id": "41b10845",
   "metadata": {},
   "outputs": [
    {
     "data": {
      "text/plain": [
       "0.8188432567829628"
      ]
     },
     "execution_count": 72,
     "metadata": {},
     "output_type": "execute_result"
    }
   ],
   "source": [
    "#R-2 for TEST data\n",
    "r2_score(y_test,y_predicted_test)"
   ]
  },
  {
   "cell_type": "code",
   "execution_count": null,
   "id": "a7caf4e8",
   "metadata": {},
   "outputs": [],
   "source": []
  },
  {
   "cell_type": "markdown",
   "id": "57799747",
   "metadata": {},
   "source": [
    "## FINAL RESULT OF OLS MODEL\n",
    "\n",
    "#### final test r2 score is 0.81 \n",
    "\n",
    "#### Since training r2 score which os 0.82 and test r2 score which is 0.81 your model have low varience and low bias.\n",
    "--------------------------------------------------------------------------------------------------------------------------------\n",
    "\n",
    "##### Feature imporatnce and Model Inter :\n",
    "features       ------------       weights\n",
    "###### const        ---------------         0.7242      \n",
    "###### GRE Score   --------------          0.0267      \n",
    "###### TOEFL Score    ---------------       0.0182      \n",
    "###### University Rating  ----------   0.0029      \n",
    "###### SOP          --------------         0.0018      \n",
    "###### LOR          ---------------         0.0159      \n",
    "###### CGPA          -------------        0.0676      \n",
    "###### Research    -----------------          0.0119\n",
    "\n",
    "#### CGPA > GRE Score > TOEFL Score\n",
    "\n",
    "--------------------------------------------------------------------------------------------------------------------------------\n",
    "#### since we have less data its better to use simple model , without any poolynomial variables .\n",
    "\n",
    "##### Majority of our assumtions are checked .\n",
    "\n",
    "\n",
    "\n",
    "\n",
    "\n",
    "\n"
   ]
  },
  {
   "cell_type": "code",
   "execution_count": null,
   "id": "1a8fae6e",
   "metadata": {},
   "outputs": [],
   "source": []
  },
  {
   "cell_type": "markdown",
   "id": "3b69b7d1",
   "metadata": {},
   "source": [
    "### Implementing Leniear Regression using Sklearn with Hyper-parameter tuning"
   ]
  },
  {
   "cell_type": "code",
   "execution_count": null,
   "id": "08da2e68",
   "metadata": {},
   "outputs": [],
   "source": []
  },
  {
   "cell_type": "code",
   "execution_count": 73,
   "id": "31e942a4",
   "metadata": {},
   "outputs": [],
   "source": [
    "df=pd.read_csv(\"d2beiqkhq929f0.cloudfront.net_public_assets_assets_000_001_839_original_Jamboree_Admission.csv\")"
   ]
  },
  {
   "cell_type": "code",
   "execution_count": 74,
   "id": "1ab12664",
   "metadata": {},
   "outputs": [],
   "source": [
    "df=df.drop(columns=\"Serial No.\")"
   ]
  },
  {
   "cell_type": "code",
   "execution_count": 75,
   "id": "5e7a10a3",
   "metadata": {},
   "outputs": [],
   "source": [
    "Y=df['Chance of Admit ']\n",
    "X=df.drop(columns=\"Chance of Admit \")\n",
    "X_train, X_test, y_train, y_test = train_test_split(X,Y, test_size=0.20, random_state=42)"
   ]
  },
  {
   "cell_type": "code",
   "execution_count": 76,
   "id": "04b49c55",
   "metadata": {},
   "outputs": [
    {
     "name": "stderr",
     "output_type": "stream",
     "text": [
      "C:\\Users\\Abhilash\\anaconda3\\lib\\site-packages\\sklearn\\linear_model\\_stochastic_gradient.py:1503: ConvergenceWarning: Maximum number of iteration reached before convergence. Consider increasing max_iter to improve the fit.\n",
      "  warnings.warn(\n",
      "C:\\Users\\Abhilash\\anaconda3\\lib\\site-packages\\sklearn\\linear_model\\_stochastic_gradient.py:1503: ConvergenceWarning: Maximum number of iteration reached before convergence. Consider increasing max_iter to improve the fit.\n",
      "  warnings.warn(\n",
      "C:\\Users\\Abhilash\\anaconda3\\lib\\site-packages\\sklearn\\linear_model\\_stochastic_gradient.py:1503: ConvergenceWarning: Maximum number of iteration reached before convergence. Consider increasing max_iter to improve the fit.\n",
      "  warnings.warn(\n",
      "C:\\Users\\Abhilash\\anaconda3\\lib\\site-packages\\sklearn\\linear_model\\_stochastic_gradient.py:1503: ConvergenceWarning: Maximum number of iteration reached before convergence. Consider increasing max_iter to improve the fit.\n",
      "  warnings.warn(\n",
      "C:\\Users\\Abhilash\\anaconda3\\lib\\site-packages\\sklearn\\linear_model\\_stochastic_gradient.py:1503: ConvergenceWarning: Maximum number of iteration reached before convergence. Consider increasing max_iter to improve the fit.\n",
      "  warnings.warn(\n"
     ]
    }
   ],
   "source": [
    "\n",
    "param_grid = {\n",
    "    'poly__degree': [1, 2, 3, 4, 5],\n",
    "    'reg__alpha': [0.001,0.01, 0.1, 1.0, 10.0],\n",
    "    'reg__l1_ratio': [0.0, 0.25, 0.5, 0.75, 1.0]\n",
    "}\n",
    "num_folds = 5\n",
    "kf = KFold(n_splits=num_folds)\n",
    "scaler = StandardScaler()\n",
    "model = Pipeline([\n",
    "    ('poly', PolynomialFeatures()),('scaler',scaler),\n",
    "    ('reg', SGDRegressor(penalty='elasticnet'))\n",
    "])\n",
    "grid_search = GridSearchCV(model, param_grid, cv=kf, scoring='neg_mean_squared_error')\n",
    "# grid_search = GridSearchCV(model, param_grid, cv=kf, scoring='neg_mean_squared_error', refit=False)\n",
    "grid_search.fit(X_train, y_train)\n",
    "best_model = grid_search.best_estimator_\n",
    "best_params = grid_search.best_params_"
   ]
  },
  {
   "cell_type": "code",
   "execution_count": 77,
   "id": "e324ffdc",
   "metadata": {},
   "outputs": [
    {
     "name": "stdout",
     "output_type": "stream",
     "text": [
      "Pipeline(steps=[('poly', PolynomialFeatures(degree=1)),\n",
      "                ('scaler', StandardScaler()),\n",
      "                ('reg',\n",
      "                 SGDRegressor(alpha=0.001, l1_ratio=0.5,\n",
      "                              penalty='elasticnet'))])\n"
     ]
    }
   ],
   "source": [
    "print(best_model)"
   ]
  },
  {
   "cell_type": "code",
   "execution_count": 78,
   "id": "ba2b7c22",
   "metadata": {},
   "outputs": [
    {
     "name": "stdout",
     "output_type": "stream",
     "text": [
      "{'poly__degree': 1, 'reg__alpha': 0.001, 'reg__l1_ratio': 0.5}\n"
     ]
    }
   ],
   "source": [
    "print(best_params)"
   ]
  },
  {
   "cell_type": "code",
   "execution_count": null,
   "id": "35dd9300",
   "metadata": {},
   "outputs": [],
   "source": []
  },
  {
   "cell_type": "code",
   "execution_count": 80,
   "id": "d64b2fa1",
   "metadata": {},
   "outputs": [
    {
     "name": "stderr",
     "output_type": "stream",
     "text": [
      "C:\\Users\\Abhilash\\anaconda3\\lib\\site-packages\\sklearn\\utils\\deprecation.py:87: FutureWarning: Function get_feature_names is deprecated; get_feature_names is deprecated in 1.0 and will be removed in 1.2. Please use get_feature_names_out instead.\n",
      "  warnings.warn(msg, category=FutureWarning)\n"
     ]
    }
   ],
   "source": [
    "poly=PolynomialFeatures(1)\n",
    "poly.fit(X_train)\n",
    "X_train_scaled_poly=poly.transform(X_train)\n",
    "colums=poly.get_feature_names(X_train.columns)\n",
    "X_train_scaled_poly=pd.DataFrame(X_train_scaled_poly,columns=colums)"
   ]
  },
  {
   "cell_type": "code",
   "execution_count": 81,
   "id": "6da7e562",
   "metadata": {},
   "outputs": [],
   "source": [
    "scaler = StandardScaler()\n",
    "scaler.fit(X_train_scaled_poly)\n",
    "X_train_scaled_poly=scaler.transform(X_train_scaled_poly)"
   ]
  },
  {
   "cell_type": "code",
   "execution_count": 82,
   "id": "9f738bb6",
   "metadata": {},
   "outputs": [],
   "source": [
    "sgd_final=SGDRegressor(alpha=0.001, l1_ratio=0.5,\n",
    "                              penalty='elasticnet',verbose=True)"
   ]
  },
  {
   "cell_type": "code",
   "execution_count": 83,
   "id": "ccd783d8",
   "metadata": {},
   "outputs": [
    {
     "name": "stdout",
     "output_type": "stream",
     "text": [
      "-- Epoch 1\n",
      "Norm: 0.06, NNZs: 7, Bias: 0.506076, T: 400, Avg. loss: 0.087388\n",
      "Total training time: 0.00 seconds.\n",
      "-- Epoch 2\n",
      "Norm: 0.07, NNZs: 7, Bias: 0.627494, T: 800, Avg. loss: 0.013501\n",
      "Total training time: 0.00 seconds.\n",
      "-- Epoch 3\n",
      "Norm: 0.07, NNZs: 7, Bias: 0.676524, T: 1200, Avg. loss: 0.004350\n",
      "Total training time: 0.00 seconds.\n",
      "-- Epoch 4\n",
      "Norm: 0.07, NNZs: 7, Bias: 0.699242, T: 1600, Avg. loss: 0.002460\n",
      "Total training time: 0.00 seconds.\n",
      "-- Epoch 5\n",
      "Norm: 0.07, NNZs: 7, Bias: 0.710674, T: 2000, Avg. loss: 0.001991\n",
      "Total training time: 0.00 seconds.\n",
      "-- Epoch 6\n",
      "Norm: 0.08, NNZs: 7, Bias: 0.716806, T: 2400, Avg. loss: 0.001858\n",
      "Total training time: 0.00 seconds.\n",
      "-- Epoch 7\n",
      "Norm: 0.08, NNZs: 7, Bias: 0.720250, T: 2800, Avg. loss: 0.001812\n",
      "Total training time: 0.00 seconds.\n",
      "-- Epoch 8\n",
      "Norm: 0.08, NNZs: 7, Bias: 0.721660, T: 3200, Avg. loss: 0.001796\n",
      "Total training time: 0.00 seconds.\n",
      "-- Epoch 9\n",
      "Norm: 0.08, NNZs: 7, Bias: 0.722524, T: 3600, Avg. loss: 0.001792\n",
      "Total training time: 0.00 seconds.\n",
      "Convergence after 9 epochs took 0.00 seconds\n"
     ]
    },
    {
     "data": {
      "text/plain": [
       "SGDRegressor(alpha=0.001, l1_ratio=0.5, penalty='elasticnet', verbose=True)"
      ]
     },
     "execution_count": 83,
     "metadata": {},
     "output_type": "execute_result"
    }
   ],
   "source": [
    "sgd_final.fit(X_train_scaled_poly,y_train)"
   ]
  },
  {
   "cell_type": "code",
   "execution_count": 84,
   "id": "6d9c7c70",
   "metadata": {},
   "outputs": [],
   "source": [
    "Weights_df=pd.DataFrame(list(zip(colums,sgd_final.coef_)),columns=[\"features\",\"weights\"])"
   ]
  },
  {
   "cell_type": "markdown",
   "id": "9754e887",
   "metadata": {},
   "source": [
    "### feature importance"
   ]
  },
  {
   "cell_type": "code",
   "execution_count": 85,
   "id": "5692aea7",
   "metadata": {},
   "outputs": [
    {
     "data": {
      "text/html": [
       "<div>\n",
       "<style scoped>\n",
       "    .dataframe tbody tr th:only-of-type {\n",
       "        vertical-align: middle;\n",
       "    }\n",
       "\n",
       "    .dataframe tbody tr th {\n",
       "        vertical-align: top;\n",
       "    }\n",
       "\n",
       "    .dataframe thead th {\n",
       "        text-align: right;\n",
       "    }\n",
       "</style>\n",
       "<table border=\"1\" class=\"dataframe\">\n",
       "  <thead>\n",
       "    <tr style=\"text-align: right;\">\n",
       "      <th></th>\n",
       "      <th>features</th>\n",
       "      <th>weights</th>\n",
       "    </tr>\n",
       "  </thead>\n",
       "  <tbody>\n",
       "    <tr>\n",
       "      <th>6</th>\n",
       "      <td>CGPA</td>\n",
       "      <td>0.059981</td>\n",
       "    </tr>\n",
       "    <tr>\n",
       "      <th>1</th>\n",
       "      <td>GRE Score</td>\n",
       "      <td>0.027052</td>\n",
       "    </tr>\n",
       "    <tr>\n",
       "      <th>2</th>\n",
       "      <td>TOEFL Score</td>\n",
       "      <td>0.023287</td>\n",
       "    </tr>\n",
       "    <tr>\n",
       "      <th>5</th>\n",
       "      <td>LOR</td>\n",
       "      <td>0.016819</td>\n",
       "    </tr>\n",
       "    <tr>\n",
       "      <th>7</th>\n",
       "      <td>Research</td>\n",
       "      <td>0.012412</td>\n",
       "    </tr>\n",
       "    <tr>\n",
       "      <th>3</th>\n",
       "      <td>University Rating</td>\n",
       "      <td>0.006441</td>\n",
       "    </tr>\n",
       "    <tr>\n",
       "      <th>4</th>\n",
       "      <td>SOP</td>\n",
       "      <td>0.001330</td>\n",
       "    </tr>\n",
       "    <tr>\n",
       "      <th>0</th>\n",
       "      <td>1</td>\n",
       "      <td>0.000000</td>\n",
       "    </tr>\n",
       "  </tbody>\n",
       "</table>\n",
       "</div>"
      ],
      "text/plain": [
       "            features   weights\n",
       "6               CGPA  0.059981\n",
       "1          GRE Score  0.027052\n",
       "2        TOEFL Score  0.023287\n",
       "5               LOR   0.016819\n",
       "7           Research  0.012412\n",
       "3  University Rating  0.006441\n",
       "4                SOP  0.001330\n",
       "0                  1  0.000000"
      ]
     },
     "execution_count": 85,
     "metadata": {},
     "output_type": "execute_result"
    }
   ],
   "source": [
    "Weights_df.sort_values(\"weights\",ascending=False)"
   ]
  },
  {
   "cell_type": "markdown",
   "id": "a9448fdf",
   "metadata": {},
   "source": [
    "### We got polynomial degree =1 in cross validation here is the features and their weightage \n"
   ]
  },
  {
   "cell_type": "code",
   "execution_count": 86,
   "id": "ead1fd79",
   "metadata": {},
   "outputs": [
    {
     "data": {
      "text/plain": [
       "array([0.        , 0.02705184, 0.02328715, 0.00644128, 0.00133049,\n",
       "       0.01681888, 0.05998137, 0.01241191])"
      ]
     },
     "execution_count": 86,
     "metadata": {},
     "output_type": "execute_result"
    }
   ],
   "source": [
    "sgd_final.coef_"
   ]
  },
  {
   "cell_type": "code",
   "execution_count": 87,
   "id": "35bc201a",
   "metadata": {},
   "outputs": [
    {
     "data": {
      "text/plain": [
       "array([0.72252369])"
      ]
     },
     "execution_count": 87,
     "metadata": {},
     "output_type": "execute_result"
    }
   ],
   "source": [
    "sgd_final.intercept_"
   ]
  },
  {
   "cell_type": "code",
   "execution_count": 88,
   "id": "bb79fc98",
   "metadata": {},
   "outputs": [],
   "source": [
    "y_train_predict=sgd_final.predict(X_train_scaled_poly)"
   ]
  },
  {
   "cell_type": "code",
   "execution_count": 89,
   "id": "68623915",
   "metadata": {},
   "outputs": [
    {
     "data": {
      "text/plain": [
       "0.8198547364422677"
      ]
     },
     "execution_count": 89,
     "metadata": {},
     "output_type": "execute_result"
    }
   ],
   "source": [
    "r2_score(y_train, y_train_predict)"
   ]
  },
  {
   "cell_type": "code",
   "execution_count": 90,
   "id": "35cb6df7",
   "metadata": {},
   "outputs": [
    {
     "data": {
      "text/plain": [
       "0.0035504504607211163"
      ]
     },
     "execution_count": 90,
     "metadata": {},
     "output_type": "execute_result"
    }
   ],
   "source": [
    "mean_squared_error(y_train, y_train_predict)"
   ]
  },
  {
   "cell_type": "markdown",
   "id": "24b116d1",
   "metadata": {},
   "source": [
    "#### We used grid search for hyper parameter tuning , and k fold cross validation k=5 \n",
    "#### Best model is SGDRegressor with  SGDRegressor(alpha=0.01, l1_ratio=0.5, penalty='elasticnet')\n",
    "#### It uses equal weightage of l1 and l2 \n",
    "#### learning rate =0.01\n",
    "\n",
    "### Train r2 score = 0.81\n",
    "#### which is same as ols model without any regularization , lr , or polynomail feature\n"
   ]
  },
  {
   "cell_type": "code",
   "execution_count": null,
   "id": "d45ac698",
   "metadata": {},
   "outputs": [],
   "source": []
  },
  {
   "cell_type": "code",
   "execution_count": null,
   "id": "85353dec",
   "metadata": {},
   "outputs": [],
   "source": []
  },
  {
   "cell_type": "code",
   "execution_count": 91,
   "id": "e0adc894",
   "metadata": {},
   "outputs": [
    {
     "name": "stderr",
     "output_type": "stream",
     "text": [
      "C:\\Users\\Abhilash\\anaconda3\\lib\\site-packages\\sklearn\\base.py:450: UserWarning: X does not have valid feature names, but StandardScaler was fitted with feature names\n",
      "  warnings.warn(\n"
     ]
    }
   ],
   "source": [
    "X_test_poly=poly.transform(X_test)\n",
    "X_test_poly_sclaed=scaler.transform(X_test_poly)"
   ]
  },
  {
   "cell_type": "code",
   "execution_count": 92,
   "id": "91bfebc8",
   "metadata": {},
   "outputs": [],
   "source": [
    "y_predict=sgd_final.predict(X_test_poly_sclaed)"
   ]
  },
  {
   "cell_type": "code",
   "execution_count": 93,
   "id": "ea041619",
   "metadata": {},
   "outputs": [
    {
     "data": {
      "text/plain": [
       "0.0037257650960270043"
      ]
     },
     "execution_count": 93,
     "metadata": {},
     "output_type": "execute_result"
    }
   ],
   "source": [
    "mean_squared_error(y_test, y_predict)"
   ]
  },
  {
   "cell_type": "code",
   "execution_count": 94,
   "id": "7b79318e",
   "metadata": {},
   "outputs": [
    {
     "data": {
      "text/plain": [
       "0.8178109977492908"
      ]
     },
     "execution_count": 94,
     "metadata": {},
     "output_type": "execute_result"
    }
   ],
   "source": [
    "r2_score(y_test, y_predict)"
   ]
  },
  {
   "cell_type": "code",
   "execution_count": null,
   "id": "a3d2bb56",
   "metadata": {},
   "outputs": [],
   "source": []
  },
  {
   "cell_type": "markdown",
   "id": "f6534025",
   "metadata": {},
   "source": [
    "### Test r2 score = 0.81"
   ]
  },
  {
   "cell_type": "code",
   "execution_count": null,
   "id": "99a3b68d",
   "metadata": {},
   "outputs": [],
   "source": []
  },
  {
   "cell_type": "markdown",
   "id": "f31f230b",
   "metadata": {},
   "source": [
    "#### Model Improvement  and Higlights of model \n",
    "\n",
    "##### we need more data to fit our model \n",
    "\n",
    "##### we need more features \n",
    "\n",
    "##### No need of polynominal feature , degree =1 is good and a simple model \n",
    "\n",
    "##### In both ols and sklearn cross validation we achived test r2 score of 0.81 \n",
    "\n",
    "##### there is no data leakage\n",
    "\n",
    "### Test score of 0.81 is pretty good in this businees case because its just a probabilty values and it can be rounded \n"
   ]
  },
  {
   "cell_type": "code",
   "execution_count": null,
   "id": "86a6ab42",
   "metadata": {},
   "outputs": [],
   "source": []
  }
 ],
 "metadata": {
  "kernelspec": {
   "display_name": "Python 3",
   "language": "python",
   "name": "python3"
  },
  "language_info": {
   "codemirror_mode": {
    "name": "ipython",
    "version": 3
   },
   "file_extension": ".py",
   "mimetype": "text/x-python",
   "name": "python",
   "nbconvert_exporter": "python",
   "pygments_lexer": "ipython3",
   "version": "3.8.8"
  }
 },
 "nbformat": 4,
 "nbformat_minor": 5
}
